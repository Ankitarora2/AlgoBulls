{
 "cells": [
  {
   "cell_type": "code",
   "execution_count": 2,
   "metadata": {},
   "outputs": [],
   "source": [
    "# Install all The Required Libraries\n",
    "\n",
    "from alpha_vantage.timeseries import TimeSeries\n",
    "import pandas as pd\n",
    "import numpy as np\n",
    "import warnings\n",
    "warnings.filterwarnings('ignore')\n",
    "import matplotlib.pyplot as plt\n",
    "import plotly.express as px\n",
    "import plotly.graph_objects as go\n"
   ]
  },
  {
   "cell_type": "code",
   "execution_count": 3,
   "metadata": {},
   "outputs": [],
   "source": [
    "# Class to retrive ohlc data of the equity\n",
    "class ScriptData:\n",
    "\n",
    "    def __init__(self):\n",
    "        self.data = {}\n",
    "        self.ts = TimeSeries(key='MQEA4163N87R0BIO')\n",
    "        \n",
    "    # function to fetch the ohlc data and return the output as dictionary format\n",
    "    def fetch_intraday_data(self,sym):\n",
    "        df, meta_data = self.ts.get_intraday(sym)\n",
    "        self.data[f'{sym}'] = df\n",
    "\n",
    "        return df , sym\n",
    "\n",
    "    # data preparation function to convert the dict ohlc data to pandas dataframe\n",
    "    def convert_intraday_data(self,sym):\n",
    "        df = self.data[sym]\n",
    "        df = pd.DataFrame(df).transpose().reset_index()\n",
    "        df.columns = ['timestamp','open','high','low','close','volume']\n",
    "\n",
    "        # to convert the data types of our ohlc df\n",
    "        df['timestamp'] = pd.to_datetime(df['timestamp'])\n",
    "        df['volume'] = pd.to_numeric(df['volume'])\n",
    "        df['close'] = pd.to_numeric(df['close'])\n",
    "        df['high'] = pd.to_numeric(df['high'])\n",
    "        df['low'] = pd.to_numeric(df['low'])\n",
    "        df['open'] = pd.to_numeric(df['open'])\n",
    "        self.data[f'{sym}'] = df\n",
    "\n",
    "        return df\n",
    "\n",
    "    def __getitem__(self, key):\n",
    "          \n",
    "        return self.data[key]\n",
    "    \n",
    "\n",
    "# Indicator function to get the moving average of the close of our equity\n",
    "def indicator1(df , timeperiod):\n",
    "\n",
    "    df['indicator'] = np.nan\n",
    "\n",
    "    for i in range(timeperiod-1, len(df)):\n",
    "        df['indicator'][i] = sum(df['close'][i-timeperiod+1 : i+1])/timeperiod\n",
    "\n",
    "    return df[['timestamp','indicator']].copy()\n",
    "\n",
    "\n"
   ]
  },
  {
   "cell_type": "code",
   "execution_count": 4,
   "metadata": {},
   "outputs": [],
   "source": [
    "script = ScriptData()"
   ]
  },
  {
   "cell_type": "code",
   "execution_count": 6,
   "metadata": {},
   "outputs": [
    {
     "data": {
      "text/html": [
       "<div>\n",
       "<style scoped>\n",
       "    .dataframe tbody tr th:only-of-type {\n",
       "        vertical-align: middle;\n",
       "    }\n",
       "\n",
       "    .dataframe tbody tr th {\n",
       "        vertical-align: top;\n",
       "    }\n",
       "\n",
       "    .dataframe thead th {\n",
       "        text-align: right;\n",
       "    }\n",
       "</style>\n",
       "<table border=\"1\" class=\"dataframe\">\n",
       "  <thead>\n",
       "    <tr style=\"text-align: right;\">\n",
       "      <th></th>\n",
       "      <th>timestamp</th>\n",
       "      <th>open</th>\n",
       "      <th>high</th>\n",
       "      <th>low</th>\n",
       "      <th>close</th>\n",
       "      <th>volume</th>\n",
       "    </tr>\n",
       "  </thead>\n",
       "  <tbody>\n",
       "    <tr>\n",
       "      <th>0</th>\n",
       "      <td>2022-12-29 20:00:00</td>\n",
       "      <td>145.9900</td>\n",
       "      <td>145.9900</td>\n",
       "      <td>145.8800</td>\n",
       "      <td>145.950</td>\n",
       "      <td>4236</td>\n",
       "    </tr>\n",
       "    <tr>\n",
       "      <th>1</th>\n",
       "      <td>2022-12-29 19:45:00</td>\n",
       "      <td>146.0300</td>\n",
       "      <td>146.0500</td>\n",
       "      <td>145.8600</td>\n",
       "      <td>146.000</td>\n",
       "      <td>17837</td>\n",
       "    </tr>\n",
       "    <tr>\n",
       "      <th>2</th>\n",
       "      <td>2022-12-29 19:30:00</td>\n",
       "      <td>146.0100</td>\n",
       "      <td>146.0500</td>\n",
       "      <td>146.0100</td>\n",
       "      <td>146.020</td>\n",
       "      <td>3954</td>\n",
       "    </tr>\n",
       "    <tr>\n",
       "      <th>3</th>\n",
       "      <td>2022-12-29 19:15:00</td>\n",
       "      <td>146.0200</td>\n",
       "      <td>146.0500</td>\n",
       "      <td>146.0100</td>\n",
       "      <td>146.010</td>\n",
       "      <td>5799</td>\n",
       "    </tr>\n",
       "    <tr>\n",
       "      <th>4</th>\n",
       "      <td>2022-12-29 19:00:00</td>\n",
       "      <td>146.0900</td>\n",
       "      <td>146.1000</td>\n",
       "      <td>146.0500</td>\n",
       "      <td>146.050</td>\n",
       "      <td>963</td>\n",
       "    </tr>\n",
       "    <tr>\n",
       "      <th>...</th>\n",
       "      <td>...</td>\n",
       "      <td>...</td>\n",
       "      <td>...</td>\n",
       "      <td>...</td>\n",
       "      <td>...</td>\n",
       "      <td>...</td>\n",
       "    </tr>\n",
       "    <tr>\n",
       "      <th>95</th>\n",
       "      <td>2022-12-28 12:15:00</td>\n",
       "      <td>140.0300</td>\n",
       "      <td>140.3800</td>\n",
       "      <td>139.6615</td>\n",
       "      <td>139.910</td>\n",
       "      <td>776158</td>\n",
       "    </tr>\n",
       "    <tr>\n",
       "      <th>96</th>\n",
       "      <td>2022-12-28 12:00:00</td>\n",
       "      <td>140.3000</td>\n",
       "      <td>140.3400</td>\n",
       "      <td>139.5219</td>\n",
       "      <td>140.070</td>\n",
       "      <td>885953</td>\n",
       "    </tr>\n",
       "    <tr>\n",
       "      <th>97</th>\n",
       "      <td>2022-12-28 11:45:00</td>\n",
       "      <td>140.2900</td>\n",
       "      <td>140.6099</td>\n",
       "      <td>139.8600</td>\n",
       "      <td>140.300</td>\n",
       "      <td>830255</td>\n",
       "    </tr>\n",
       "    <tr>\n",
       "      <th>98</th>\n",
       "      <td>2022-12-28 11:30:00</td>\n",
       "      <td>139.6000</td>\n",
       "      <td>140.5300</td>\n",
       "      <td>139.4500</td>\n",
       "      <td>140.280</td>\n",
       "      <td>1315283</td>\n",
       "    </tr>\n",
       "    <tr>\n",
       "      <th>99</th>\n",
       "      <td>2022-12-28 11:15:00</td>\n",
       "      <td>139.4504</td>\n",
       "      <td>139.8600</td>\n",
       "      <td>138.8600</td>\n",
       "      <td>139.585</td>\n",
       "      <td>1662639</td>\n",
       "    </tr>\n",
       "  </tbody>\n",
       "</table>\n",
       "<p>100 rows × 6 columns</p>\n",
       "</div>"
      ],
      "text/plain": [
       "             timestamp      open      high       low    close   volume\n",
       "0  2022-12-29 20:00:00  145.9900  145.9900  145.8800  145.950     4236\n",
       "1  2022-12-29 19:45:00  146.0300  146.0500  145.8600  146.000    17837\n",
       "2  2022-12-29 19:30:00  146.0100  146.0500  146.0100  146.020     3954\n",
       "3  2022-12-29 19:15:00  146.0200  146.0500  146.0100  146.010     5799\n",
       "4  2022-12-29 19:00:00  146.0900  146.1000  146.0500  146.050      963\n",
       "..                 ...       ...       ...       ...      ...      ...\n",
       "95 2022-12-28 12:15:00  140.0300  140.3800  139.6615  139.910   776158\n",
       "96 2022-12-28 12:00:00  140.3000  140.3400  139.5219  140.070   885953\n",
       "97 2022-12-28 11:45:00  140.2900  140.6099  139.8600  140.300   830255\n",
       "98 2022-12-28 11:30:00  139.6000  140.5300  139.4500  140.280  1315283\n",
       "99 2022-12-28 11:15:00  139.4504  139.8600  138.8600  139.585  1662639\n",
       "\n",
       "[100 rows x 6 columns]"
      ]
     },
     "execution_count": 6,
     "metadata": {},
     "output_type": "execute_result"
    }
   ],
   "source": [
    "script.fetch_intraday_data('NVDA')\n",
    "df = script.convert_intraday_data('NVDA')\n",
    "df\n"
   ]
  },
  {
   "cell_type": "code",
   "execution_count": 7,
   "metadata": {},
   "outputs": [
    {
     "data": {
      "text/html": [
       "<div>\n",
       "<style scoped>\n",
       "    .dataframe tbody tr th:only-of-type {\n",
       "        vertical-align: middle;\n",
       "    }\n",
       "\n",
       "    .dataframe tbody tr th {\n",
       "        vertical-align: top;\n",
       "    }\n",
       "\n",
       "    .dataframe thead th {\n",
       "        text-align: right;\n",
       "    }\n",
       "</style>\n",
       "<table border=\"1\" class=\"dataframe\">\n",
       "  <thead>\n",
       "    <tr style=\"text-align: right;\">\n",
       "      <th></th>\n",
       "      <th>timestamp</th>\n",
       "      <th>indicator</th>\n",
       "    </tr>\n",
       "  </thead>\n",
       "  <tbody>\n",
       "    <tr>\n",
       "      <th>0</th>\n",
       "      <td>2022-12-29 20:00:00</td>\n",
       "      <td>NaN</td>\n",
       "    </tr>\n",
       "    <tr>\n",
       "      <th>1</th>\n",
       "      <td>2022-12-29 19:45:00</td>\n",
       "      <td>NaN</td>\n",
       "    </tr>\n",
       "    <tr>\n",
       "      <th>2</th>\n",
       "      <td>2022-12-29 19:30:00</td>\n",
       "      <td>NaN</td>\n",
       "    </tr>\n",
       "    <tr>\n",
       "      <th>3</th>\n",
       "      <td>2022-12-29 19:15:00</td>\n",
       "      <td>NaN</td>\n",
       "    </tr>\n",
       "    <tr>\n",
       "      <th>4</th>\n",
       "      <td>2022-12-29 19:00:00</td>\n",
       "      <td>146.00600</td>\n",
       "    </tr>\n",
       "    <tr>\n",
       "      <th>...</th>\n",
       "      <td>...</td>\n",
       "      <td>...</td>\n",
       "    </tr>\n",
       "    <tr>\n",
       "      <th>95</th>\n",
       "      <td>2022-12-28 12:15:00</td>\n",
       "      <td>140.91458</td>\n",
       "    </tr>\n",
       "    <tr>\n",
       "      <th>96</th>\n",
       "      <td>2022-12-28 12:00:00</td>\n",
       "      <td>140.59902</td>\n",
       "    </tr>\n",
       "    <tr>\n",
       "      <th>97</th>\n",
       "      <td>2022-12-28 11:45:00</td>\n",
       "      <td>140.35102</td>\n",
       "    </tr>\n",
       "    <tr>\n",
       "      <th>98</th>\n",
       "      <td>2022-12-28 11:30:00</td>\n",
       "      <td>140.19426</td>\n",
       "    </tr>\n",
       "    <tr>\n",
       "      <th>99</th>\n",
       "      <td>2022-12-28 11:15:00</td>\n",
       "      <td>140.02900</td>\n",
       "    </tr>\n",
       "  </tbody>\n",
       "</table>\n",
       "<p>100 rows × 2 columns</p>\n",
       "</div>"
      ],
      "text/plain": [
       "             timestamp  indicator\n",
       "0  2022-12-29 20:00:00        NaN\n",
       "1  2022-12-29 19:45:00        NaN\n",
       "2  2022-12-29 19:30:00        NaN\n",
       "3  2022-12-29 19:15:00        NaN\n",
       "4  2022-12-29 19:00:00  146.00600\n",
       "..                 ...        ...\n",
       "95 2022-12-28 12:15:00  140.91458\n",
       "96 2022-12-28 12:00:00  140.59902\n",
       "97 2022-12-28 11:45:00  140.35102\n",
       "98 2022-12-28 11:30:00  140.19426\n",
       "99 2022-12-28 11:15:00  140.02900\n",
       "\n",
       "[100 rows x 2 columns]"
      ]
     },
     "execution_count": 7,
     "metadata": {},
     "output_type": "execute_result"
    }
   ],
   "source": [
    "\n",
    "indicator1(df, timeperiod= 5)"
   ]
  },
  {
   "cell_type": "code",
   "execution_count": 8,
   "metadata": {},
   "outputs": [],
   "source": [
    "# Class strategy to retrieve the buy and sell signals \n",
    "class Strategy:\n",
    "\n",
    "    def __init__(self , symbol):\n",
    "        self.symbol  = symbol\n",
    "        \n",
    "\n",
    "        self.df = pd.DataFrame()\n",
    "\n",
    "    # Func to do the data preparation and retrieval of ohlc data and the Simple Moving Average Indicator\n",
    "    def get_script_data(self):\n",
    "        self.script = ScriptData()\n",
    "        self.script.fetch_intraday_data(self.symbol)\n",
    "        self.script.convert_intraday_data(self.symbol)\n",
    "\n",
    "        self.df = self.script.data[self.symbol]\n",
    "\n",
    "        self.indicator = indicator1(df , timeperiod=5)\n",
    "\n",
    "        self.df['indicator_data'] = self.indicator['indicator']\n",
    "\n",
    "\n",
    "    # Function to calculate the buy and sell signal of Our Strategy \n",
    "    def get_signals(self):\n",
    "        df = self.df\n",
    "\n",
    "        df['signal'] = np.nan\n",
    "        for i in range(len(df)):\n",
    "            if df.iloc[i-1]['close']>df.iloc[i-1]['indicator_data'] and df.iloc[i]['close'] < df.iloc[i]['indicator_data']:\n",
    "                df['signal'][i] = 'BUY'\n",
    "            elif df.iloc[i-1]['close'] < df.iloc[i-1]['indicator_data'] and df.iloc[i]['close'] > df.iloc[i]['indicator_data']:\n",
    "                df['signal'][i] = 'SELL'\n",
    "\n",
    "        self.df = df\n",
    "        \n",
    "        # returning only the timestamp which should have buy or sell signal\n",
    "        return self.df[['timestamp','signal']].copy().dropna()\n",
    "\n",
    "    # Ploting Func\n",
    "    def plot(self):\n",
    "        df = self.df\n",
    "        fig = px.line(df , y = ['close','indicator_data'])\n",
    "        # plotting the crossover of close and Simple Moving Average\n",
    "        fig.show()\n",
    "\n",
    "        fig = go.Figure(data=[go.Candlestick(\n",
    "                       open=df['open'], high=df['high'],\n",
    "                       low=df['low'], close=df['close'] ) ])\n",
    "        fig.add_trace(go.Line(y=df['indicator_data']))\n",
    "        # Plotting the OHLC Candles and Simple Moving Average\n",
    "        fig.show()\n",
    "\n",
    "\n",
    "\n",
    "    "
   ]
  },
  {
   "cell_type": "code",
   "execution_count": 9,
   "metadata": {},
   "outputs": [],
   "source": [
    "strategy = Strategy('NVDA')"
   ]
  },
  {
   "cell_type": "code",
   "execution_count": 10,
   "metadata": {},
   "outputs": [],
   "source": [
    "strategy.get_script_data()"
   ]
  },
  {
   "cell_type": "code",
   "execution_count": 11,
   "metadata": {},
   "outputs": [
    {
     "data": {
      "text/html": [
       "<div>\n",
       "<style scoped>\n",
       "    .dataframe tbody tr th:only-of-type {\n",
       "        vertical-align: middle;\n",
       "    }\n",
       "\n",
       "    .dataframe tbody tr th {\n",
       "        vertical-align: top;\n",
       "    }\n",
       "\n",
       "    .dataframe thead th {\n",
       "        text-align: right;\n",
       "    }\n",
       "</style>\n",
       "<table border=\"1\" class=\"dataframe\">\n",
       "  <thead>\n",
       "    <tr style=\"text-align: right;\">\n",
       "      <th></th>\n",
       "      <th>timestamp</th>\n",
       "      <th>signal</th>\n",
       "    </tr>\n",
       "  </thead>\n",
       "  <tbody>\n",
       "    <tr>\n",
       "      <th>7</th>\n",
       "      <td>2022-12-29 18:15:00</td>\n",
       "      <td>BUY</td>\n",
       "    </tr>\n",
       "    <tr>\n",
       "      <th>8</th>\n",
       "      <td>2022-12-29 18:00:00</td>\n",
       "      <td>SELL</td>\n",
       "    </tr>\n",
       "    <tr>\n",
       "      <th>10</th>\n",
       "      <td>2022-12-29 17:30:00</td>\n",
       "      <td>BUY</td>\n",
       "    </tr>\n",
       "    <tr>\n",
       "      <th>12</th>\n",
       "      <td>2022-12-29 17:00:00</td>\n",
       "      <td>SELL</td>\n",
       "    </tr>\n",
       "    <tr>\n",
       "      <th>13</th>\n",
       "      <td>2022-12-29 16:45:00</td>\n",
       "      <td>BUY</td>\n",
       "    </tr>\n",
       "    <tr>\n",
       "      <th>14</th>\n",
       "      <td>2022-12-29 16:30:00</td>\n",
       "      <td>SELL</td>\n",
       "    </tr>\n",
       "    <tr>\n",
       "      <th>15</th>\n",
       "      <td>2022-12-29 16:15:00</td>\n",
       "      <td>BUY</td>\n",
       "    </tr>\n",
       "    <tr>\n",
       "      <th>17</th>\n",
       "      <td>2022-12-29 15:45:00</td>\n",
       "      <td>SELL</td>\n",
       "    </tr>\n",
       "    <tr>\n",
       "      <th>19</th>\n",
       "      <td>2022-12-29 15:15:00</td>\n",
       "      <td>BUY</td>\n",
       "    </tr>\n",
       "    <tr>\n",
       "      <th>23</th>\n",
       "      <td>2022-12-29 14:15:00</td>\n",
       "      <td>SELL</td>\n",
       "    </tr>\n",
       "    <tr>\n",
       "      <th>27</th>\n",
       "      <td>2022-12-29 13:15:00</td>\n",
       "      <td>BUY</td>\n",
       "    </tr>\n",
       "    <tr>\n",
       "      <th>28</th>\n",
       "      <td>2022-12-29 13:00:00</td>\n",
       "      <td>SELL</td>\n",
       "    </tr>\n",
       "    <tr>\n",
       "      <th>29</th>\n",
       "      <td>2022-12-29 12:45:00</td>\n",
       "      <td>BUY</td>\n",
       "    </tr>\n",
       "    <tr>\n",
       "      <th>32</th>\n",
       "      <td>2022-12-29 12:00:00</td>\n",
       "      <td>SELL</td>\n",
       "    </tr>\n",
       "    <tr>\n",
       "      <th>33</th>\n",
       "      <td>2022-12-29 11:45:00</td>\n",
       "      <td>BUY</td>\n",
       "    </tr>\n",
       "    <tr>\n",
       "      <th>39</th>\n",
       "      <td>2022-12-29 10:15:00</td>\n",
       "      <td>SELL</td>\n",
       "    </tr>\n",
       "    <tr>\n",
       "      <th>40</th>\n",
       "      <td>2022-12-29 10:00:00</td>\n",
       "      <td>BUY</td>\n",
       "    </tr>\n",
       "    <tr>\n",
       "      <th>52</th>\n",
       "      <td>2022-12-29 07:00:00</td>\n",
       "      <td>SELL</td>\n",
       "    </tr>\n",
       "    <tr>\n",
       "      <th>56</th>\n",
       "      <td>2022-12-29 06:00:00</td>\n",
       "      <td>BUY</td>\n",
       "    </tr>\n",
       "    <tr>\n",
       "      <th>59</th>\n",
       "      <td>2022-12-29 05:15:00</td>\n",
       "      <td>SELL</td>\n",
       "    </tr>\n",
       "    <tr>\n",
       "      <th>60</th>\n",
       "      <td>2022-12-29 05:00:00</td>\n",
       "      <td>BUY</td>\n",
       "    </tr>\n",
       "    <tr>\n",
       "      <th>68</th>\n",
       "      <td>2022-12-28 19:00:00</td>\n",
       "      <td>SELL</td>\n",
       "    </tr>\n",
       "    <tr>\n",
       "      <th>70</th>\n",
       "      <td>2022-12-28 18:30:00</td>\n",
       "      <td>BUY</td>\n",
       "    </tr>\n",
       "    <tr>\n",
       "      <th>74</th>\n",
       "      <td>2022-12-28 17:30:00</td>\n",
       "      <td>SELL</td>\n",
       "    </tr>\n",
       "    <tr>\n",
       "      <th>77</th>\n",
       "      <td>2022-12-28 16:45:00</td>\n",
       "      <td>BUY</td>\n",
       "    </tr>\n",
       "    <tr>\n",
       "      <th>79</th>\n",
       "      <td>2022-12-28 16:15:00</td>\n",
       "      <td>SELL</td>\n",
       "    </tr>\n",
       "    <tr>\n",
       "      <th>81</th>\n",
       "      <td>2022-12-28 15:45:00</td>\n",
       "      <td>BUY</td>\n",
       "    </tr>\n",
       "    <tr>\n",
       "      <th>84</th>\n",
       "      <td>2022-12-28 15:00:00</td>\n",
       "      <td>SELL</td>\n",
       "    </tr>\n",
       "    <tr>\n",
       "      <th>93</th>\n",
       "      <td>2022-12-28 12:45:00</td>\n",
       "      <td>BUY</td>\n",
       "    </tr>\n",
       "    <tr>\n",
       "      <th>98</th>\n",
       "      <td>2022-12-28 11:30:00</td>\n",
       "      <td>SELL</td>\n",
       "    </tr>\n",
       "    <tr>\n",
       "      <th>99</th>\n",
       "      <td>2022-12-28 11:15:00</td>\n",
       "      <td>BUY</td>\n",
       "    </tr>\n",
       "  </tbody>\n",
       "</table>\n",
       "</div>"
      ],
      "text/plain": [
       "             timestamp signal\n",
       "7  2022-12-29 18:15:00    BUY\n",
       "8  2022-12-29 18:00:00   SELL\n",
       "10 2022-12-29 17:30:00    BUY\n",
       "12 2022-12-29 17:00:00   SELL\n",
       "13 2022-12-29 16:45:00    BUY\n",
       "14 2022-12-29 16:30:00   SELL\n",
       "15 2022-12-29 16:15:00    BUY\n",
       "17 2022-12-29 15:45:00   SELL\n",
       "19 2022-12-29 15:15:00    BUY\n",
       "23 2022-12-29 14:15:00   SELL\n",
       "27 2022-12-29 13:15:00    BUY\n",
       "28 2022-12-29 13:00:00   SELL\n",
       "29 2022-12-29 12:45:00    BUY\n",
       "32 2022-12-29 12:00:00   SELL\n",
       "33 2022-12-29 11:45:00    BUY\n",
       "39 2022-12-29 10:15:00   SELL\n",
       "40 2022-12-29 10:00:00    BUY\n",
       "52 2022-12-29 07:00:00   SELL\n",
       "56 2022-12-29 06:00:00    BUY\n",
       "59 2022-12-29 05:15:00   SELL\n",
       "60 2022-12-29 05:00:00    BUY\n",
       "68 2022-12-28 19:00:00   SELL\n",
       "70 2022-12-28 18:30:00    BUY\n",
       "74 2022-12-28 17:30:00   SELL\n",
       "77 2022-12-28 16:45:00    BUY\n",
       "79 2022-12-28 16:15:00   SELL\n",
       "81 2022-12-28 15:45:00    BUY\n",
       "84 2022-12-28 15:00:00   SELL\n",
       "93 2022-12-28 12:45:00    BUY\n",
       "98 2022-12-28 11:30:00   SELL\n",
       "99 2022-12-28 11:15:00    BUY"
      ]
     },
     "execution_count": 11,
     "metadata": {},
     "output_type": "execute_result"
    }
   ],
   "source": [
    "strategy.get_signals()"
   ]
  },
  {
   "cell_type": "code",
   "execution_count": 12,
   "metadata": {},
   "outputs": [
    {
     "data": {
      "application/vnd.plotly.v1+json": {
       "config": {
        "plotlyServerURL": "https://plot.ly"
       },
       "data": [
        {
         "hovertemplate": "variable=close<br>index=%{x}<br>value=%{y}<extra></extra>",
         "legendgroup": "close",
         "line": {
          "color": "#636efa",
          "dash": "solid"
         },
         "marker": {
          "symbol": "circle"
         },
         "mode": "lines",
         "name": "close",
         "orientation": "v",
         "showlegend": true,
         "type": "scatter",
         "x": [
          0,
          1,
          2,
          3,
          4,
          5,
          6,
          7,
          8,
          9,
          10,
          11,
          12,
          13,
          14,
          15,
          16,
          17,
          18,
          19,
          20,
          21,
          22,
          23,
          24,
          25,
          26,
          27,
          28,
          29,
          30,
          31,
          32,
          33,
          34,
          35,
          36,
          37,
          38,
          39,
          40,
          41,
          42,
          43,
          44,
          45,
          46,
          47,
          48,
          49,
          50,
          51,
          52,
          53,
          54,
          55,
          56,
          57,
          58,
          59,
          60,
          61,
          62,
          63,
          64,
          65,
          66,
          67,
          68,
          69,
          70,
          71,
          72,
          73,
          74,
          75,
          76,
          77,
          78,
          79,
          80,
          81,
          82,
          83,
          84,
          85,
          86,
          87,
          88,
          89,
          90,
          91,
          92,
          93,
          94,
          95,
          96,
          97,
          98,
          99
         ],
         "xaxis": "x",
         "y": [
          145.95,
          146,
          146.02,
          146.01,
          146.05,
          146.05,
          146.04,
          146.03,
          146.1,
          146.1,
          146.06,
          146.0511,
          146.11,
          146.0111,
          146.06,
          146.05,
          146.03,
          146.47,
          146.28,
          145.9575,
          145.23,
          145.31,
          145.38,
          145.7,
          145.825,
          145.68,
          146.01,
          145.7558,
          146.43,
          145.71,
          145.55,
          145.55,
          146.35,
          145.64,
          145.602,
          145.14,
          145.4,
          145.18,
          144.5,
          145.1901,
          144.645,
          144.41,
          144,
          144.27,
          144.24,
          143.39,
          142.3529,
          142.31,
          142,
          141.99,
          141.83,
          142,
          142.02,
          142.1,
          142.3,
          142.3,
          142.06,
          142,
          142,
          142.12,
          142.04,
          141.74,
          141.39,
          141.03,
          140.55,
          140.25,
          140.32,
          140.44,
          140.47,
          140.49,
          140.34,
          140.35,
          140.27,
          140.1609,
          140.3272,
          140.42,
          140.36,
          140.2111,
          140.16,
          140.5,
          140.36,
          140.06,
          140.07,
          139.6511,
          140.43,
          140.72,
          140.45,
          141.335,
          141.3299,
          141.2623,
          141.205,
          141.6478,
          141.54,
          141.0638,
          140.4113,
          139.91,
          140.07,
          140.3,
          140.28,
          139.585
         ],
         "yaxis": "y"
        },
        {
         "hovertemplate": "variable=indicator_data<br>index=%{x}<br>value=%{y}<extra></extra>",
         "legendgroup": "indicator_data",
         "line": {
          "color": "#EF553B",
          "dash": "solid"
         },
         "marker": {
          "symbol": "circle"
         },
         "mode": "lines",
         "name": "indicator_data",
         "orientation": "v",
         "showlegend": true,
         "type": "scatter",
         "x": [
          0,
          1,
          2,
          3,
          4,
          5,
          6,
          7,
          8,
          9,
          10,
          11,
          12,
          13,
          14,
          15,
          16,
          17,
          18,
          19,
          20,
          21,
          22,
          23,
          24,
          25,
          26,
          27,
          28,
          29,
          30,
          31,
          32,
          33,
          34,
          35,
          36,
          37,
          38,
          39,
          40,
          41,
          42,
          43,
          44,
          45,
          46,
          47,
          48,
          49,
          50,
          51,
          52,
          53,
          54,
          55,
          56,
          57,
          58,
          59,
          60,
          61,
          62,
          63,
          64,
          65,
          66,
          67,
          68,
          69,
          70,
          71,
          72,
          73,
          74,
          75,
          76,
          77,
          78,
          79,
          80,
          81,
          82,
          83,
          84,
          85,
          86,
          87,
          88,
          89,
          90,
          91,
          92,
          93,
          94,
          95,
          96,
          97,
          98,
          99
         ],
         "xaxis": "x",
         "y": [
          null,
          null,
          null,
          null,
          146.006,
          146.02599999999998,
          146.034,
          146.036,
          146.054,
          146.06400000000002,
          146.06599999999997,
          146.06822,
          146.08422000000002,
          146.06644,
          146.05843999999996,
          146.05644,
          146.05221999999998,
          146.12422,
          146.178,
          146.1575,
          145.99349999999998,
          145.84949999999998,
          145.6315,
          145.51550000000003,
          145.48899999999998,
          145.579,
          145.719,
          145.79415999999998,
          145.94016000000002,
          145.91716000000002,
          145.89115999999999,
          145.79915999999997,
          145.918,
          145.76,
          145.7384,
          145.6564,
          145.6264,
          145.3924,
          145.16439999999997,
          145.08202,
          144.98302,
          144.78501999999997,
          144.54901999999998,
          144.50302,
          144.31300000000002,
          144.06199999999998,
          143.65058,
          143.31257999999997,
          142.85858,
          142.40857999999997,
          142.09658000000002,
          142.026,
          141.96800000000002,
          141.988,
          142.05,
          142.144,
          142.156,
          142.152,
          142.132,
          142.096,
          142.044,
          141.98,
          141.858,
          141.664,
          141.35,
          140.99200000000002,
          140.708,
          140.51800000000003,
          140.406,
          140.394,
          140.412,
          140.418,
          140.38400000000001,
          140.32218,
          140.28962,
          140.30561999999998,
          140.30762,
          140.29584,
          140.29566,
          140.33022,
          140.31822,
          140.25822,
          140.22999999999996,
          140.12822,
          140.11422000000002,
          140.18622,
          140.26421999999997,
          140.51722,
          140.85297999999997,
          141.01944,
          141.11644,
          141.356,
          141.397,
          141.34377999999998,
          141.17358,
          140.91457999999997,
          140.59901999999997,
          140.35101999999998,
          140.19425999999999,
          140.02900000000002
         ],
         "yaxis": "y"
        }
       ],
       "layout": {
        "legend": {
         "title": {
          "text": "variable"
         },
         "tracegroupgap": 0
        },
        "margin": {
         "t": 60
        },
        "template": {
         "data": {
          "bar": [
           {
            "error_x": {
             "color": "#2a3f5f"
            },
            "error_y": {
             "color": "#2a3f5f"
            },
            "marker": {
             "line": {
              "color": "#E5ECF6",
              "width": 0.5
             },
             "pattern": {
              "fillmode": "overlay",
              "size": 10,
              "solidity": 0.2
             }
            },
            "type": "bar"
           }
          ],
          "barpolar": [
           {
            "marker": {
             "line": {
              "color": "#E5ECF6",
              "width": 0.5
             },
             "pattern": {
              "fillmode": "overlay",
              "size": 10,
              "solidity": 0.2
             }
            },
            "type": "barpolar"
           }
          ],
          "carpet": [
           {
            "aaxis": {
             "endlinecolor": "#2a3f5f",
             "gridcolor": "white",
             "linecolor": "white",
             "minorgridcolor": "white",
             "startlinecolor": "#2a3f5f"
            },
            "baxis": {
             "endlinecolor": "#2a3f5f",
             "gridcolor": "white",
             "linecolor": "white",
             "minorgridcolor": "white",
             "startlinecolor": "#2a3f5f"
            },
            "type": "carpet"
           }
          ],
          "choropleth": [
           {
            "colorbar": {
             "outlinewidth": 0,
             "ticks": ""
            },
            "type": "choropleth"
           }
          ],
          "contour": [
           {
            "colorbar": {
             "outlinewidth": 0,
             "ticks": ""
            },
            "colorscale": [
             [
              0,
              "#0d0887"
             ],
             [
              0.1111111111111111,
              "#46039f"
             ],
             [
              0.2222222222222222,
              "#7201a8"
             ],
             [
              0.3333333333333333,
              "#9c179e"
             ],
             [
              0.4444444444444444,
              "#bd3786"
             ],
             [
              0.5555555555555556,
              "#d8576b"
             ],
             [
              0.6666666666666666,
              "#ed7953"
             ],
             [
              0.7777777777777778,
              "#fb9f3a"
             ],
             [
              0.8888888888888888,
              "#fdca26"
             ],
             [
              1,
              "#f0f921"
             ]
            ],
            "type": "contour"
           }
          ],
          "contourcarpet": [
           {
            "colorbar": {
             "outlinewidth": 0,
             "ticks": ""
            },
            "type": "contourcarpet"
           }
          ],
          "heatmap": [
           {
            "colorbar": {
             "outlinewidth": 0,
             "ticks": ""
            },
            "colorscale": [
             [
              0,
              "#0d0887"
             ],
             [
              0.1111111111111111,
              "#46039f"
             ],
             [
              0.2222222222222222,
              "#7201a8"
             ],
             [
              0.3333333333333333,
              "#9c179e"
             ],
             [
              0.4444444444444444,
              "#bd3786"
             ],
             [
              0.5555555555555556,
              "#d8576b"
             ],
             [
              0.6666666666666666,
              "#ed7953"
             ],
             [
              0.7777777777777778,
              "#fb9f3a"
             ],
             [
              0.8888888888888888,
              "#fdca26"
             ],
             [
              1,
              "#f0f921"
             ]
            ],
            "type": "heatmap"
           }
          ],
          "heatmapgl": [
           {
            "colorbar": {
             "outlinewidth": 0,
             "ticks": ""
            },
            "colorscale": [
             [
              0,
              "#0d0887"
             ],
             [
              0.1111111111111111,
              "#46039f"
             ],
             [
              0.2222222222222222,
              "#7201a8"
             ],
             [
              0.3333333333333333,
              "#9c179e"
             ],
             [
              0.4444444444444444,
              "#bd3786"
             ],
             [
              0.5555555555555556,
              "#d8576b"
             ],
             [
              0.6666666666666666,
              "#ed7953"
             ],
             [
              0.7777777777777778,
              "#fb9f3a"
             ],
             [
              0.8888888888888888,
              "#fdca26"
             ],
             [
              1,
              "#f0f921"
             ]
            ],
            "type": "heatmapgl"
           }
          ],
          "histogram": [
           {
            "marker": {
             "pattern": {
              "fillmode": "overlay",
              "size": 10,
              "solidity": 0.2
             }
            },
            "type": "histogram"
           }
          ],
          "histogram2d": [
           {
            "colorbar": {
             "outlinewidth": 0,
             "ticks": ""
            },
            "colorscale": [
             [
              0,
              "#0d0887"
             ],
             [
              0.1111111111111111,
              "#46039f"
             ],
             [
              0.2222222222222222,
              "#7201a8"
             ],
             [
              0.3333333333333333,
              "#9c179e"
             ],
             [
              0.4444444444444444,
              "#bd3786"
             ],
             [
              0.5555555555555556,
              "#d8576b"
             ],
             [
              0.6666666666666666,
              "#ed7953"
             ],
             [
              0.7777777777777778,
              "#fb9f3a"
             ],
             [
              0.8888888888888888,
              "#fdca26"
             ],
             [
              1,
              "#f0f921"
             ]
            ],
            "type": "histogram2d"
           }
          ],
          "histogram2dcontour": [
           {
            "colorbar": {
             "outlinewidth": 0,
             "ticks": ""
            },
            "colorscale": [
             [
              0,
              "#0d0887"
             ],
             [
              0.1111111111111111,
              "#46039f"
             ],
             [
              0.2222222222222222,
              "#7201a8"
             ],
             [
              0.3333333333333333,
              "#9c179e"
             ],
             [
              0.4444444444444444,
              "#bd3786"
             ],
             [
              0.5555555555555556,
              "#d8576b"
             ],
             [
              0.6666666666666666,
              "#ed7953"
             ],
             [
              0.7777777777777778,
              "#fb9f3a"
             ],
             [
              0.8888888888888888,
              "#fdca26"
             ],
             [
              1,
              "#f0f921"
             ]
            ],
            "type": "histogram2dcontour"
           }
          ],
          "mesh3d": [
           {
            "colorbar": {
             "outlinewidth": 0,
             "ticks": ""
            },
            "type": "mesh3d"
           }
          ],
          "parcoords": [
           {
            "line": {
             "colorbar": {
              "outlinewidth": 0,
              "ticks": ""
             }
            },
            "type": "parcoords"
           }
          ],
          "pie": [
           {
            "automargin": true,
            "type": "pie"
           }
          ],
          "scatter": [
           {
            "fillpattern": {
             "fillmode": "overlay",
             "size": 10,
             "solidity": 0.2
            },
            "type": "scatter"
           }
          ],
          "scatter3d": [
           {
            "line": {
             "colorbar": {
              "outlinewidth": 0,
              "ticks": ""
             }
            },
            "marker": {
             "colorbar": {
              "outlinewidth": 0,
              "ticks": ""
             }
            },
            "type": "scatter3d"
           }
          ],
          "scattercarpet": [
           {
            "marker": {
             "colorbar": {
              "outlinewidth": 0,
              "ticks": ""
             }
            },
            "type": "scattercarpet"
           }
          ],
          "scattergeo": [
           {
            "marker": {
             "colorbar": {
              "outlinewidth": 0,
              "ticks": ""
             }
            },
            "type": "scattergeo"
           }
          ],
          "scattergl": [
           {
            "marker": {
             "colorbar": {
              "outlinewidth": 0,
              "ticks": ""
             }
            },
            "type": "scattergl"
           }
          ],
          "scattermapbox": [
           {
            "marker": {
             "colorbar": {
              "outlinewidth": 0,
              "ticks": ""
             }
            },
            "type": "scattermapbox"
           }
          ],
          "scatterpolar": [
           {
            "marker": {
             "colorbar": {
              "outlinewidth": 0,
              "ticks": ""
             }
            },
            "type": "scatterpolar"
           }
          ],
          "scatterpolargl": [
           {
            "marker": {
             "colorbar": {
              "outlinewidth": 0,
              "ticks": ""
             }
            },
            "type": "scatterpolargl"
           }
          ],
          "scatterternary": [
           {
            "marker": {
             "colorbar": {
              "outlinewidth": 0,
              "ticks": ""
             }
            },
            "type": "scatterternary"
           }
          ],
          "surface": [
           {
            "colorbar": {
             "outlinewidth": 0,
             "ticks": ""
            },
            "colorscale": [
             [
              0,
              "#0d0887"
             ],
             [
              0.1111111111111111,
              "#46039f"
             ],
             [
              0.2222222222222222,
              "#7201a8"
             ],
             [
              0.3333333333333333,
              "#9c179e"
             ],
             [
              0.4444444444444444,
              "#bd3786"
             ],
             [
              0.5555555555555556,
              "#d8576b"
             ],
             [
              0.6666666666666666,
              "#ed7953"
             ],
             [
              0.7777777777777778,
              "#fb9f3a"
             ],
             [
              0.8888888888888888,
              "#fdca26"
             ],
             [
              1,
              "#f0f921"
             ]
            ],
            "type": "surface"
           }
          ],
          "table": [
           {
            "cells": {
             "fill": {
              "color": "#EBF0F8"
             },
             "line": {
              "color": "white"
             }
            },
            "header": {
             "fill": {
              "color": "#C8D4E3"
             },
             "line": {
              "color": "white"
             }
            },
            "type": "table"
           }
          ]
         },
         "layout": {
          "annotationdefaults": {
           "arrowcolor": "#2a3f5f",
           "arrowhead": 0,
           "arrowwidth": 1
          },
          "autotypenumbers": "strict",
          "coloraxis": {
           "colorbar": {
            "outlinewidth": 0,
            "ticks": ""
           }
          },
          "colorscale": {
           "diverging": [
            [
             0,
             "#8e0152"
            ],
            [
             0.1,
             "#c51b7d"
            ],
            [
             0.2,
             "#de77ae"
            ],
            [
             0.3,
             "#f1b6da"
            ],
            [
             0.4,
             "#fde0ef"
            ],
            [
             0.5,
             "#f7f7f7"
            ],
            [
             0.6,
             "#e6f5d0"
            ],
            [
             0.7,
             "#b8e186"
            ],
            [
             0.8,
             "#7fbc41"
            ],
            [
             0.9,
             "#4d9221"
            ],
            [
             1,
             "#276419"
            ]
           ],
           "sequential": [
            [
             0,
             "#0d0887"
            ],
            [
             0.1111111111111111,
             "#46039f"
            ],
            [
             0.2222222222222222,
             "#7201a8"
            ],
            [
             0.3333333333333333,
             "#9c179e"
            ],
            [
             0.4444444444444444,
             "#bd3786"
            ],
            [
             0.5555555555555556,
             "#d8576b"
            ],
            [
             0.6666666666666666,
             "#ed7953"
            ],
            [
             0.7777777777777778,
             "#fb9f3a"
            ],
            [
             0.8888888888888888,
             "#fdca26"
            ],
            [
             1,
             "#f0f921"
            ]
           ],
           "sequentialminus": [
            [
             0,
             "#0d0887"
            ],
            [
             0.1111111111111111,
             "#46039f"
            ],
            [
             0.2222222222222222,
             "#7201a8"
            ],
            [
             0.3333333333333333,
             "#9c179e"
            ],
            [
             0.4444444444444444,
             "#bd3786"
            ],
            [
             0.5555555555555556,
             "#d8576b"
            ],
            [
             0.6666666666666666,
             "#ed7953"
            ],
            [
             0.7777777777777778,
             "#fb9f3a"
            ],
            [
             0.8888888888888888,
             "#fdca26"
            ],
            [
             1,
             "#f0f921"
            ]
           ]
          },
          "colorway": [
           "#636efa",
           "#EF553B",
           "#00cc96",
           "#ab63fa",
           "#FFA15A",
           "#19d3f3",
           "#FF6692",
           "#B6E880",
           "#FF97FF",
           "#FECB52"
          ],
          "font": {
           "color": "#2a3f5f"
          },
          "geo": {
           "bgcolor": "white",
           "lakecolor": "white",
           "landcolor": "#E5ECF6",
           "showlakes": true,
           "showland": true,
           "subunitcolor": "white"
          },
          "hoverlabel": {
           "align": "left"
          },
          "hovermode": "closest",
          "mapbox": {
           "style": "light"
          },
          "paper_bgcolor": "white",
          "plot_bgcolor": "#E5ECF6",
          "polar": {
           "angularaxis": {
            "gridcolor": "white",
            "linecolor": "white",
            "ticks": ""
           },
           "bgcolor": "#E5ECF6",
           "radialaxis": {
            "gridcolor": "white",
            "linecolor": "white",
            "ticks": ""
           }
          },
          "scene": {
           "xaxis": {
            "backgroundcolor": "#E5ECF6",
            "gridcolor": "white",
            "gridwidth": 2,
            "linecolor": "white",
            "showbackground": true,
            "ticks": "",
            "zerolinecolor": "white"
           },
           "yaxis": {
            "backgroundcolor": "#E5ECF6",
            "gridcolor": "white",
            "gridwidth": 2,
            "linecolor": "white",
            "showbackground": true,
            "ticks": "",
            "zerolinecolor": "white"
           },
           "zaxis": {
            "backgroundcolor": "#E5ECF6",
            "gridcolor": "white",
            "gridwidth": 2,
            "linecolor": "white",
            "showbackground": true,
            "ticks": "",
            "zerolinecolor": "white"
           }
          },
          "shapedefaults": {
           "line": {
            "color": "#2a3f5f"
           }
          },
          "ternary": {
           "aaxis": {
            "gridcolor": "white",
            "linecolor": "white",
            "ticks": ""
           },
           "baxis": {
            "gridcolor": "white",
            "linecolor": "white",
            "ticks": ""
           },
           "bgcolor": "#E5ECF6",
           "caxis": {
            "gridcolor": "white",
            "linecolor": "white",
            "ticks": ""
           }
          },
          "title": {
           "x": 0.05
          },
          "xaxis": {
           "automargin": true,
           "gridcolor": "white",
           "linecolor": "white",
           "ticks": "",
           "title": {
            "standoff": 15
           },
           "zerolinecolor": "white",
           "zerolinewidth": 2
          },
          "yaxis": {
           "automargin": true,
           "gridcolor": "white",
           "linecolor": "white",
           "ticks": "",
           "title": {
            "standoff": 15
           },
           "zerolinecolor": "white",
           "zerolinewidth": 2
          }
         }
        },
        "xaxis": {
         "anchor": "y",
         "domain": [
          0,
          1
         ],
         "title": {
          "text": "index"
         }
        },
        "yaxis": {
         "anchor": "x",
         "domain": [
          0,
          1
         ],
         "title": {
          "text": "value"
         }
        }
       }
      }
     },
     "metadata": {},
     "output_type": "display_data"
    },
    {
     "name": "stderr",
     "output_type": "stream",
     "text": [
      "c:\\Users\\anki2\\AppData\\Local\\Programs\\Python\\Python310\\lib\\site-packages\\plotly\\graph_objs\\_deprecations.py:378: DeprecationWarning:\n",
      "\n",
      "plotly.graph_objs.Line is deprecated.\n",
      "Please replace it with one of the following more specific types\n",
      "  - plotly.graph_objs.scatter.Line\n",
      "  - plotly.graph_objs.layout.shape.Line\n",
      "  - etc.\n",
      "\n",
      "\n"
     ]
    },
    {
     "data": {
      "application/vnd.plotly.v1+json": {
       "config": {
        "plotlyServerURL": "https://plot.ly"
       },
       "data": [
        {
         "close": [
          145.95,
          146,
          146.02,
          146.01,
          146.05,
          146.05,
          146.04,
          146.03,
          146.1,
          146.1,
          146.06,
          146.0511,
          146.11,
          146.0111,
          146.06,
          146.05,
          146.03,
          146.47,
          146.28,
          145.9575,
          145.23,
          145.31,
          145.38,
          145.7,
          145.825,
          145.68,
          146.01,
          145.7558,
          146.43,
          145.71,
          145.55,
          145.55,
          146.35,
          145.64,
          145.602,
          145.14,
          145.4,
          145.18,
          144.5,
          145.1901,
          144.645,
          144.41,
          144,
          144.27,
          144.24,
          143.39,
          142.3529,
          142.31,
          142,
          141.99,
          141.83,
          142,
          142.02,
          142.1,
          142.3,
          142.3,
          142.06,
          142,
          142,
          142.12,
          142.04,
          141.74,
          141.39,
          141.03,
          140.55,
          140.25,
          140.32,
          140.44,
          140.47,
          140.49,
          140.34,
          140.35,
          140.27,
          140.1609,
          140.3272,
          140.42,
          140.36,
          140.2111,
          140.16,
          140.5,
          140.36,
          140.06,
          140.07,
          139.6511,
          140.43,
          140.72,
          140.45,
          141.335,
          141.3299,
          141.2623,
          141.205,
          141.6478,
          141.54,
          141.0638,
          140.4113,
          139.91,
          140.07,
          140.3,
          140.28,
          139.585
         ],
         "high": [
          145.99,
          146.05,
          146.05,
          146.05,
          146.1,
          146.1,
          146.12,
          146.12,
          146.1,
          146.1,
          146.1,
          146.11,
          146.11,
          146.09,
          146.19,
          146.2999,
          146.83,
          146.74,
          146.48,
          146.07,
          145.46,
          145.57,
          145.89,
          146.09,
          145.8899,
          146.05,
          146.39,
          146.45,
          146.58,
          146.0406,
          146.1381,
          146.41,
          146.7996,
          146.08,
          145.73,
          145.52,
          145.42,
          145.46,
          145.49,
          145.4243,
          145.31,
          144.67,
          144.57,
          145,
          144.95,
          143.5,
          142.3723,
          142.4,
          142.02,
          141.99,
          142.01,
          142.02,
          142.07,
          142.24,
          142.3,
          142.3,
          142.12,
          142,
          142,
          142.12,
          142.04,
          141.76,
          141.55,
          141.25,
          140.58,
          140.3,
          140.4,
          140.49,
          140.49,
          140.49,
          140.47,
          140.49,
          140.3,
          140.4,
          140.45,
          140.42,
          140.49,
          140.26,
          140.5,
          140.58,
          140.73,
          140.73,
          140.4,
          140.5152,
          140.96,
          140.79,
          141.34,
          141.59,
          141.5136,
          141.4199,
          141.83,
          141.81,
          141.67,
          141.28,
          140.65,
          140.38,
          140.34,
          140.6099,
          140.53,
          139.86
         ],
         "low": [
          145.88,
          145.86,
          146.01,
          146.01,
          146.05,
          146.03,
          146.04,
          146.03,
          146.06,
          146.06,
          146.05,
          146.0511,
          146.0201,
          146.0111,
          146.03,
          146,
          145.82,
          146.1917,
          145.81,
          145.16,
          145.01,
          145.17,
          145.3,
          145.58,
          145.42,
          145.32,
          145.6,
          145.5,
          145.6492,
          145.25,
          145.3001,
          145.52,
          145.62,
          145.5401,
          145.0756,
          144.81,
          144.66,
          144.515,
          144.47,
          143.61,
          144.1,
          142.27,
          143.59,
          144.05,
          143.3,
          142,
          142.12,
          141.73,
          141.93,
          141.77,
          141.76,
          141.86,
          141.83,
          142.1,
          142.2,
          142.3,
          142,
          141.89,
          141.73,
          142.04,
          141.68,
          141.38,
          141.12,
          140.91,
          140.36,
          140.2,
          140.32,
          140.44,
          140.43,
          140.4,
          140.28,
          140.3,
          140.16,
          140.1609,
          140.3272,
          140.3221,
          140.29,
          140.2111,
          140.16,
          140.16,
          139.95,
          140.05,
          139.59,
          139.63,
          140.38,
          139.905,
          140.45,
          141.03,
          140.9601,
          140.86,
          140.98,
          141.36,
          141.0101,
          140.3501,
          139.86,
          139.6615,
          139.5219,
          139.86,
          139.45,
          138.86
         ],
         "open": [
          145.99,
          146.03,
          146.01,
          146.02,
          146.09,
          146.09,
          146.07,
          146.08,
          146.06,
          146.0716,
          146.1,
          146.11,
          146.03,
          146.08,
          146.14,
          146.03,
          146.46,
          146.27,
          145.95,
          145.22,
          145.31,
          145.41,
          145.68,
          145.82,
          145.69,
          146.02,
          145.77,
          146.44,
          145.7248,
          145.5657,
          145.56,
          146.38,
          145.645,
          145.62,
          145.1275,
          145.42,
          145.1884,
          144.54,
          145.19,
          144.67,
          144.37,
          144.02,
          144.15,
          144.1,
          143.39,
          142.3,
          142.3,
          141.86,
          141.93,
          141.81,
          142.01,
          142.02,
          141.83,
          142.23,
          142.21,
          142.3,
          142,
          141.9,
          141.8,
          142.04,
          141.68,
          141.38,
          141.12,
          140.91,
          140.39,
          140.27,
          140.4,
          140.49,
          140.49,
          140.46,
          140.35,
          140.3,
          140.3,
          140.4,
          140.36,
          140.4,
          140.29,
          140.26,
          140.4,
          140.36,
          140.05,
          140.06,
          139.63,
          140.47,
          140.71,
          140.43,
          141.31,
          141.35,
          141.24,
          141.215,
          141.635,
          141.55,
          141.08,
          140.425,
          139.94,
          140.03,
          140.3,
          140.29,
          139.6,
          139.4504
         ],
         "type": "candlestick"
        },
        {
         "type": "scatter",
         "y": [
          null,
          null,
          null,
          null,
          146.006,
          146.02599999999998,
          146.034,
          146.036,
          146.054,
          146.06400000000002,
          146.06599999999997,
          146.06822,
          146.08422000000002,
          146.06644,
          146.05843999999996,
          146.05644,
          146.05221999999998,
          146.12422,
          146.178,
          146.1575,
          145.99349999999998,
          145.84949999999998,
          145.6315,
          145.51550000000003,
          145.48899999999998,
          145.579,
          145.719,
          145.79415999999998,
          145.94016000000002,
          145.91716000000002,
          145.89115999999999,
          145.79915999999997,
          145.918,
          145.76,
          145.7384,
          145.6564,
          145.6264,
          145.3924,
          145.16439999999997,
          145.08202,
          144.98302,
          144.78501999999997,
          144.54901999999998,
          144.50302,
          144.31300000000002,
          144.06199999999998,
          143.65058,
          143.31257999999997,
          142.85858,
          142.40857999999997,
          142.09658000000002,
          142.026,
          141.96800000000002,
          141.988,
          142.05,
          142.144,
          142.156,
          142.152,
          142.132,
          142.096,
          142.044,
          141.98,
          141.858,
          141.664,
          141.35,
          140.99200000000002,
          140.708,
          140.51800000000003,
          140.406,
          140.394,
          140.412,
          140.418,
          140.38400000000001,
          140.32218,
          140.28962,
          140.30561999999998,
          140.30762,
          140.29584,
          140.29566,
          140.33022,
          140.31822,
          140.25822,
          140.22999999999996,
          140.12822,
          140.11422000000002,
          140.18622,
          140.26421999999997,
          140.51722,
          140.85297999999997,
          141.01944,
          141.11644,
          141.356,
          141.397,
          141.34377999999998,
          141.17358,
          140.91457999999997,
          140.59901999999997,
          140.35101999999998,
          140.19425999999999,
          140.02900000000002
         ]
        }
       ],
       "layout": {
        "template": {
         "data": {
          "bar": [
           {
            "error_x": {
             "color": "#2a3f5f"
            },
            "error_y": {
             "color": "#2a3f5f"
            },
            "marker": {
             "line": {
              "color": "#E5ECF6",
              "width": 0.5
             },
             "pattern": {
              "fillmode": "overlay",
              "size": 10,
              "solidity": 0.2
             }
            },
            "type": "bar"
           }
          ],
          "barpolar": [
           {
            "marker": {
             "line": {
              "color": "#E5ECF6",
              "width": 0.5
             },
             "pattern": {
              "fillmode": "overlay",
              "size": 10,
              "solidity": 0.2
             }
            },
            "type": "barpolar"
           }
          ],
          "carpet": [
           {
            "aaxis": {
             "endlinecolor": "#2a3f5f",
             "gridcolor": "white",
             "linecolor": "white",
             "minorgridcolor": "white",
             "startlinecolor": "#2a3f5f"
            },
            "baxis": {
             "endlinecolor": "#2a3f5f",
             "gridcolor": "white",
             "linecolor": "white",
             "minorgridcolor": "white",
             "startlinecolor": "#2a3f5f"
            },
            "type": "carpet"
           }
          ],
          "choropleth": [
           {
            "colorbar": {
             "outlinewidth": 0,
             "ticks": ""
            },
            "type": "choropleth"
           }
          ],
          "contour": [
           {
            "colorbar": {
             "outlinewidth": 0,
             "ticks": ""
            },
            "colorscale": [
             [
              0,
              "#0d0887"
             ],
             [
              0.1111111111111111,
              "#46039f"
             ],
             [
              0.2222222222222222,
              "#7201a8"
             ],
             [
              0.3333333333333333,
              "#9c179e"
             ],
             [
              0.4444444444444444,
              "#bd3786"
             ],
             [
              0.5555555555555556,
              "#d8576b"
             ],
             [
              0.6666666666666666,
              "#ed7953"
             ],
             [
              0.7777777777777778,
              "#fb9f3a"
             ],
             [
              0.8888888888888888,
              "#fdca26"
             ],
             [
              1,
              "#f0f921"
             ]
            ],
            "type": "contour"
           }
          ],
          "contourcarpet": [
           {
            "colorbar": {
             "outlinewidth": 0,
             "ticks": ""
            },
            "type": "contourcarpet"
           }
          ],
          "heatmap": [
           {
            "colorbar": {
             "outlinewidth": 0,
             "ticks": ""
            },
            "colorscale": [
             [
              0,
              "#0d0887"
             ],
             [
              0.1111111111111111,
              "#46039f"
             ],
             [
              0.2222222222222222,
              "#7201a8"
             ],
             [
              0.3333333333333333,
              "#9c179e"
             ],
             [
              0.4444444444444444,
              "#bd3786"
             ],
             [
              0.5555555555555556,
              "#d8576b"
             ],
             [
              0.6666666666666666,
              "#ed7953"
             ],
             [
              0.7777777777777778,
              "#fb9f3a"
             ],
             [
              0.8888888888888888,
              "#fdca26"
             ],
             [
              1,
              "#f0f921"
             ]
            ],
            "type": "heatmap"
           }
          ],
          "heatmapgl": [
           {
            "colorbar": {
             "outlinewidth": 0,
             "ticks": ""
            },
            "colorscale": [
             [
              0,
              "#0d0887"
             ],
             [
              0.1111111111111111,
              "#46039f"
             ],
             [
              0.2222222222222222,
              "#7201a8"
             ],
             [
              0.3333333333333333,
              "#9c179e"
             ],
             [
              0.4444444444444444,
              "#bd3786"
             ],
             [
              0.5555555555555556,
              "#d8576b"
             ],
             [
              0.6666666666666666,
              "#ed7953"
             ],
             [
              0.7777777777777778,
              "#fb9f3a"
             ],
             [
              0.8888888888888888,
              "#fdca26"
             ],
             [
              1,
              "#f0f921"
             ]
            ],
            "type": "heatmapgl"
           }
          ],
          "histogram": [
           {
            "marker": {
             "pattern": {
              "fillmode": "overlay",
              "size": 10,
              "solidity": 0.2
             }
            },
            "type": "histogram"
           }
          ],
          "histogram2d": [
           {
            "colorbar": {
             "outlinewidth": 0,
             "ticks": ""
            },
            "colorscale": [
             [
              0,
              "#0d0887"
             ],
             [
              0.1111111111111111,
              "#46039f"
             ],
             [
              0.2222222222222222,
              "#7201a8"
             ],
             [
              0.3333333333333333,
              "#9c179e"
             ],
             [
              0.4444444444444444,
              "#bd3786"
             ],
             [
              0.5555555555555556,
              "#d8576b"
             ],
             [
              0.6666666666666666,
              "#ed7953"
             ],
             [
              0.7777777777777778,
              "#fb9f3a"
             ],
             [
              0.8888888888888888,
              "#fdca26"
             ],
             [
              1,
              "#f0f921"
             ]
            ],
            "type": "histogram2d"
           }
          ],
          "histogram2dcontour": [
           {
            "colorbar": {
             "outlinewidth": 0,
             "ticks": ""
            },
            "colorscale": [
             [
              0,
              "#0d0887"
             ],
             [
              0.1111111111111111,
              "#46039f"
             ],
             [
              0.2222222222222222,
              "#7201a8"
             ],
             [
              0.3333333333333333,
              "#9c179e"
             ],
             [
              0.4444444444444444,
              "#bd3786"
             ],
             [
              0.5555555555555556,
              "#d8576b"
             ],
             [
              0.6666666666666666,
              "#ed7953"
             ],
             [
              0.7777777777777778,
              "#fb9f3a"
             ],
             [
              0.8888888888888888,
              "#fdca26"
             ],
             [
              1,
              "#f0f921"
             ]
            ],
            "type": "histogram2dcontour"
           }
          ],
          "mesh3d": [
           {
            "colorbar": {
             "outlinewidth": 0,
             "ticks": ""
            },
            "type": "mesh3d"
           }
          ],
          "parcoords": [
           {
            "line": {
             "colorbar": {
              "outlinewidth": 0,
              "ticks": ""
             }
            },
            "type": "parcoords"
           }
          ],
          "pie": [
           {
            "automargin": true,
            "type": "pie"
           }
          ],
          "scatter": [
           {
            "fillpattern": {
             "fillmode": "overlay",
             "size": 10,
             "solidity": 0.2
            },
            "type": "scatter"
           }
          ],
          "scatter3d": [
           {
            "line": {
             "colorbar": {
              "outlinewidth": 0,
              "ticks": ""
             }
            },
            "marker": {
             "colorbar": {
              "outlinewidth": 0,
              "ticks": ""
             }
            },
            "type": "scatter3d"
           }
          ],
          "scattercarpet": [
           {
            "marker": {
             "colorbar": {
              "outlinewidth": 0,
              "ticks": ""
             }
            },
            "type": "scattercarpet"
           }
          ],
          "scattergeo": [
           {
            "marker": {
             "colorbar": {
              "outlinewidth": 0,
              "ticks": ""
             }
            },
            "type": "scattergeo"
           }
          ],
          "scattergl": [
           {
            "marker": {
             "colorbar": {
              "outlinewidth": 0,
              "ticks": ""
             }
            },
            "type": "scattergl"
           }
          ],
          "scattermapbox": [
           {
            "marker": {
             "colorbar": {
              "outlinewidth": 0,
              "ticks": ""
             }
            },
            "type": "scattermapbox"
           }
          ],
          "scatterpolar": [
           {
            "marker": {
             "colorbar": {
              "outlinewidth": 0,
              "ticks": ""
             }
            },
            "type": "scatterpolar"
           }
          ],
          "scatterpolargl": [
           {
            "marker": {
             "colorbar": {
              "outlinewidth": 0,
              "ticks": ""
             }
            },
            "type": "scatterpolargl"
           }
          ],
          "scatterternary": [
           {
            "marker": {
             "colorbar": {
              "outlinewidth": 0,
              "ticks": ""
             }
            },
            "type": "scatterternary"
           }
          ],
          "surface": [
           {
            "colorbar": {
             "outlinewidth": 0,
             "ticks": ""
            },
            "colorscale": [
             [
              0,
              "#0d0887"
             ],
             [
              0.1111111111111111,
              "#46039f"
             ],
             [
              0.2222222222222222,
              "#7201a8"
             ],
             [
              0.3333333333333333,
              "#9c179e"
             ],
             [
              0.4444444444444444,
              "#bd3786"
             ],
             [
              0.5555555555555556,
              "#d8576b"
             ],
             [
              0.6666666666666666,
              "#ed7953"
             ],
             [
              0.7777777777777778,
              "#fb9f3a"
             ],
             [
              0.8888888888888888,
              "#fdca26"
             ],
             [
              1,
              "#f0f921"
             ]
            ],
            "type": "surface"
           }
          ],
          "table": [
           {
            "cells": {
             "fill": {
              "color": "#EBF0F8"
             },
             "line": {
              "color": "white"
             }
            },
            "header": {
             "fill": {
              "color": "#C8D4E3"
             },
             "line": {
              "color": "white"
             }
            },
            "type": "table"
           }
          ]
         },
         "layout": {
          "annotationdefaults": {
           "arrowcolor": "#2a3f5f",
           "arrowhead": 0,
           "arrowwidth": 1
          },
          "autotypenumbers": "strict",
          "coloraxis": {
           "colorbar": {
            "outlinewidth": 0,
            "ticks": ""
           }
          },
          "colorscale": {
           "diverging": [
            [
             0,
             "#8e0152"
            ],
            [
             0.1,
             "#c51b7d"
            ],
            [
             0.2,
             "#de77ae"
            ],
            [
             0.3,
             "#f1b6da"
            ],
            [
             0.4,
             "#fde0ef"
            ],
            [
             0.5,
             "#f7f7f7"
            ],
            [
             0.6,
             "#e6f5d0"
            ],
            [
             0.7,
             "#b8e186"
            ],
            [
             0.8,
             "#7fbc41"
            ],
            [
             0.9,
             "#4d9221"
            ],
            [
             1,
             "#276419"
            ]
           ],
           "sequential": [
            [
             0,
             "#0d0887"
            ],
            [
             0.1111111111111111,
             "#46039f"
            ],
            [
             0.2222222222222222,
             "#7201a8"
            ],
            [
             0.3333333333333333,
             "#9c179e"
            ],
            [
             0.4444444444444444,
             "#bd3786"
            ],
            [
             0.5555555555555556,
             "#d8576b"
            ],
            [
             0.6666666666666666,
             "#ed7953"
            ],
            [
             0.7777777777777778,
             "#fb9f3a"
            ],
            [
             0.8888888888888888,
             "#fdca26"
            ],
            [
             1,
             "#f0f921"
            ]
           ],
           "sequentialminus": [
            [
             0,
             "#0d0887"
            ],
            [
             0.1111111111111111,
             "#46039f"
            ],
            [
             0.2222222222222222,
             "#7201a8"
            ],
            [
             0.3333333333333333,
             "#9c179e"
            ],
            [
             0.4444444444444444,
             "#bd3786"
            ],
            [
             0.5555555555555556,
             "#d8576b"
            ],
            [
             0.6666666666666666,
             "#ed7953"
            ],
            [
             0.7777777777777778,
             "#fb9f3a"
            ],
            [
             0.8888888888888888,
             "#fdca26"
            ],
            [
             1,
             "#f0f921"
            ]
           ]
          },
          "colorway": [
           "#636efa",
           "#EF553B",
           "#00cc96",
           "#ab63fa",
           "#FFA15A",
           "#19d3f3",
           "#FF6692",
           "#B6E880",
           "#FF97FF",
           "#FECB52"
          ],
          "font": {
           "color": "#2a3f5f"
          },
          "geo": {
           "bgcolor": "white",
           "lakecolor": "white",
           "landcolor": "#E5ECF6",
           "showlakes": true,
           "showland": true,
           "subunitcolor": "white"
          },
          "hoverlabel": {
           "align": "left"
          },
          "hovermode": "closest",
          "mapbox": {
           "style": "light"
          },
          "paper_bgcolor": "white",
          "plot_bgcolor": "#E5ECF6",
          "polar": {
           "angularaxis": {
            "gridcolor": "white",
            "linecolor": "white",
            "ticks": ""
           },
           "bgcolor": "#E5ECF6",
           "radialaxis": {
            "gridcolor": "white",
            "linecolor": "white",
            "ticks": ""
           }
          },
          "scene": {
           "xaxis": {
            "backgroundcolor": "#E5ECF6",
            "gridcolor": "white",
            "gridwidth": 2,
            "linecolor": "white",
            "showbackground": true,
            "ticks": "",
            "zerolinecolor": "white"
           },
           "yaxis": {
            "backgroundcolor": "#E5ECF6",
            "gridcolor": "white",
            "gridwidth": 2,
            "linecolor": "white",
            "showbackground": true,
            "ticks": "",
            "zerolinecolor": "white"
           },
           "zaxis": {
            "backgroundcolor": "#E5ECF6",
            "gridcolor": "white",
            "gridwidth": 2,
            "linecolor": "white",
            "showbackground": true,
            "ticks": "",
            "zerolinecolor": "white"
           }
          },
          "shapedefaults": {
           "line": {
            "color": "#2a3f5f"
           }
          },
          "ternary": {
           "aaxis": {
            "gridcolor": "white",
            "linecolor": "white",
            "ticks": ""
           },
           "baxis": {
            "gridcolor": "white",
            "linecolor": "white",
            "ticks": ""
           },
           "bgcolor": "#E5ECF6",
           "caxis": {
            "gridcolor": "white",
            "linecolor": "white",
            "ticks": ""
           }
          },
          "title": {
           "x": 0.05
          },
          "xaxis": {
           "automargin": true,
           "gridcolor": "white",
           "linecolor": "white",
           "ticks": "",
           "title": {
            "standoff": 15
           },
           "zerolinecolor": "white",
           "zerolinewidth": 2
          },
          "yaxis": {
           "automargin": true,
           "gridcolor": "white",
           "linecolor": "white",
           "ticks": "",
           "title": {
            "standoff": 15
           },
           "zerolinecolor": "white",
           "zerolinewidth": 2
          }
         }
        }
       }
      }
     },
     "metadata": {},
     "output_type": "display_data"
    }
   ],
   "source": [
    "strategy.plot()"
   ]
  },
  {
   "cell_type": "code",
   "execution_count": null,
   "metadata": {},
   "outputs": [],
   "source": []
  }
 ],
 "metadata": {
  "kernelspec": {
   "display_name": "Python 3",
   "language": "python",
   "name": "python3"
  },
  "language_info": {
   "codemirror_mode": {
    "name": "ipython",
    "version": 3
   },
   "file_extension": ".py",
   "mimetype": "text/x-python",
   "name": "python",
   "nbconvert_exporter": "python",
   "pygments_lexer": "ipython3",
   "version": "3.10.5"
  },
  "orig_nbformat": 4,
  "vscode": {
   "interpreter": {
    "hash": "871054e614fb269dbfe62a04d4bfa231d03106f63f31fc565f108327be8ed47c"
   }
  }
 },
 "nbformat": 4,
 "nbformat_minor": 2
}
