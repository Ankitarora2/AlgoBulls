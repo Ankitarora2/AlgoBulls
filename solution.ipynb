{
 "cells": [
  {
   "cell_type": "code",
   "execution_count": 43,
   "metadata": {},
   "outputs": [],
   "source": [
    "from alpha_vantage.timeseries import TimeSeries\n",
    "import pandas as pd\n",
    "import numpy as np\n",
    "import warnings\n",
    "warnings.filterwarnings('ignore')\n",
    "import matplotlib.pyplot as plt\n",
    "import plotly.express as px\n",
    "import plotly.graph_objects as go\n"
   ]
  },
  {
   "cell_type": "code",
   "execution_count": 2,
   "metadata": {},
   "outputs": [],
   "source": [
    "class ScriptData:\n",
    "\n",
    "    def __init__(self):\n",
    "        self.data = {}\n",
    "        self.ts = TimeSeries(key='MQEA4163N87R0BIO')\n",
    "        \n",
    "\n",
    "    def fetch_intraday_data(self,sym):\n",
    "        df, meta_data = self.ts.get_intraday(sym)\n",
    "        self.data[f'{sym}'] = df\n",
    "\n",
    "        return df , sym\n",
    "    def convert_intraday_data(self,sym):\n",
    "        df = self.data[sym]\n",
    "        df = pd.DataFrame(df).transpose().reset_index()\n",
    "        df.columns = ['timestamp','open','high','low','close','volume']\n",
    "        df['timestamp'] = pd.to_datetime(df['timestamp'])\n",
    "        df['volume'] = pd.to_numeric(df['volume'])\n",
    "        df['close'] = pd.to_numeric(df['close'])\n",
    "        df['high'] = pd.to_numeric(df['high'])\n",
    "        df['low'] = pd.to_numeric(df['low'])\n",
    "        df['open'] = pd.to_numeric(df['open'])\n",
    "        self.data[f'{sym}'] = df\n",
    "\n",
    "        return df\n",
    "\n",
    "    def __getitem__(self, key):\n",
    "          \n",
    "        return self.data[key]\n",
    "    \n",
    "\n",
    "def indicator1(df , timeperiod):\n",
    "\n",
    "    df['indicator'] = np.nan\n",
    "\n",
    "    for i in range(timeperiod-1, len(df)):\n",
    "        df['indicator'][i] = sum(df['close'][i-timeperiod+1 : i+1])/timeperiod\n",
    "\n",
    "    return df[['timestamp','indicator']].copy()\n",
    "\n",
    "\n"
   ]
  },
  {
   "cell_type": "code",
   "execution_count": 3,
   "metadata": {},
   "outputs": [],
   "source": [
    "script = ScriptData()"
   ]
  },
  {
   "cell_type": "code",
   "execution_count": 24,
   "metadata": {},
   "outputs": [
    {
     "data": {
      "text/html": [
       "<div>\n",
       "<style scoped>\n",
       "    .dataframe tbody tr th:only-of-type {\n",
       "        vertical-align: middle;\n",
       "    }\n",
       "\n",
       "    .dataframe tbody tr th {\n",
       "        vertical-align: top;\n",
       "    }\n",
       "\n",
       "    .dataframe thead th {\n",
       "        text-align: right;\n",
       "    }\n",
       "</style>\n",
       "<table border=\"1\" class=\"dataframe\">\n",
       "  <thead>\n",
       "    <tr style=\"text-align: right;\">\n",
       "      <th></th>\n",
       "      <th>timestamp</th>\n",
       "      <th>open</th>\n",
       "      <th>high</th>\n",
       "      <th>low</th>\n",
       "      <th>close</th>\n",
       "      <th>volume</th>\n",
       "    </tr>\n",
       "  </thead>\n",
       "  <tbody>\n",
       "    <tr>\n",
       "      <th>0</th>\n",
       "      <td>2022-12-27 20:00:00</td>\n",
       "      <td>87.3800</td>\n",
       "      <td>87.380</td>\n",
       "      <td>87.180</td>\n",
       "      <td>87.3599</td>\n",
       "      <td>5168</td>\n",
       "    </tr>\n",
       "    <tr>\n",
       "      <th>1</th>\n",
       "      <td>2022-12-27 19:45:00</td>\n",
       "      <td>87.2700</td>\n",
       "      <td>87.370</td>\n",
       "      <td>87.190</td>\n",
       "      <td>87.3700</td>\n",
       "      <td>1917</td>\n",
       "    </tr>\n",
       "    <tr>\n",
       "      <th>2</th>\n",
       "      <td>2022-12-27 19:30:00</td>\n",
       "      <td>87.3900</td>\n",
       "      <td>87.390</td>\n",
       "      <td>87.280</td>\n",
       "      <td>87.2800</td>\n",
       "      <td>1711</td>\n",
       "    </tr>\n",
       "    <tr>\n",
       "      <th>3</th>\n",
       "      <td>2022-12-27 19:15:00</td>\n",
       "      <td>87.3000</td>\n",
       "      <td>87.490</td>\n",
       "      <td>87.300</td>\n",
       "      <td>87.3900</td>\n",
       "      <td>3361</td>\n",
       "    </tr>\n",
       "    <tr>\n",
       "      <th>4</th>\n",
       "      <td>2022-12-27 19:00:00</td>\n",
       "      <td>87.3500</td>\n",
       "      <td>87.370</td>\n",
       "      <td>87.320</td>\n",
       "      <td>87.3700</td>\n",
       "      <td>1001</td>\n",
       "    </tr>\n",
       "    <tr>\n",
       "      <th>...</th>\n",
       "      <td>...</td>\n",
       "      <td>...</td>\n",
       "      <td>...</td>\n",
       "      <td>...</td>\n",
       "      <td>...</td>\n",
       "      <td>...</td>\n",
       "    </tr>\n",
       "    <tr>\n",
       "      <th>95</th>\n",
       "      <td>2022-12-23 12:00:00</td>\n",
       "      <td>88.9850</td>\n",
       "      <td>89.120</td>\n",
       "      <td>88.800</td>\n",
       "      <td>89.1200</td>\n",
       "      <td>510227</td>\n",
       "    </tr>\n",
       "    <tr>\n",
       "      <th>96</th>\n",
       "      <td>2022-12-23 11:45:00</td>\n",
       "      <td>88.6900</td>\n",
       "      <td>89.195</td>\n",
       "      <td>88.565</td>\n",
       "      <td>88.9949</td>\n",
       "      <td>459756</td>\n",
       "    </tr>\n",
       "    <tr>\n",
       "      <th>97</th>\n",
       "      <td>2022-12-23 11:30:00</td>\n",
       "      <td>88.5803</td>\n",
       "      <td>88.900</td>\n",
       "      <td>88.520</td>\n",
       "      <td>88.6850</td>\n",
       "      <td>608166</td>\n",
       "    </tr>\n",
       "    <tr>\n",
       "      <th>98</th>\n",
       "      <td>2022-12-23 11:15:00</td>\n",
       "      <td>88.7700</td>\n",
       "      <td>88.890</td>\n",
       "      <td>88.210</td>\n",
       "      <td>88.5800</td>\n",
       "      <td>822376</td>\n",
       "    </tr>\n",
       "    <tr>\n",
       "      <th>99</th>\n",
       "      <td>2022-12-23 11:00:00</td>\n",
       "      <td>89.3700</td>\n",
       "      <td>89.370</td>\n",
       "      <td>88.730</td>\n",
       "      <td>88.7700</td>\n",
       "      <td>705007</td>\n",
       "    </tr>\n",
       "  </tbody>\n",
       "</table>\n",
       "<p>100 rows × 6 columns</p>\n",
       "</div>"
      ],
      "text/plain": [
       "             timestamp     open    high     low    close  volume\n",
       "0  2022-12-27 20:00:00  87.3800  87.380  87.180  87.3599    5168\n",
       "1  2022-12-27 19:45:00  87.2700  87.370  87.190  87.3700    1917\n",
       "2  2022-12-27 19:30:00  87.3900  87.390  87.280  87.2800    1711\n",
       "3  2022-12-27 19:15:00  87.3000  87.490  87.300  87.3900    3361\n",
       "4  2022-12-27 19:00:00  87.3500  87.370  87.320  87.3700    1001\n",
       "..                 ...      ...     ...     ...      ...     ...\n",
       "95 2022-12-23 12:00:00  88.9850  89.120  88.800  89.1200  510227\n",
       "96 2022-12-23 11:45:00  88.6900  89.195  88.565  88.9949  459756\n",
       "97 2022-12-23 11:30:00  88.5803  88.900  88.520  88.6850  608166\n",
       "98 2022-12-23 11:15:00  88.7700  88.890  88.210  88.5800  822376\n",
       "99 2022-12-23 11:00:00  89.3700  89.370  88.730  88.7700  705007\n",
       "\n",
       "[100 rows x 6 columns]"
      ]
     },
     "execution_count": 24,
     "metadata": {},
     "output_type": "execute_result"
    }
   ],
   "source": [
    "script.fetch_intraday_data('GOOGL')\n",
    "df = script.convert_intraday_data('GOOGL')\n",
    "df\n"
   ]
  },
  {
   "cell_type": "code",
   "execution_count": 25,
   "metadata": {},
   "outputs": [
    {
     "data": {
      "text/html": [
       "<div>\n",
       "<style scoped>\n",
       "    .dataframe tbody tr th:only-of-type {\n",
       "        vertical-align: middle;\n",
       "    }\n",
       "\n",
       "    .dataframe tbody tr th {\n",
       "        vertical-align: top;\n",
       "    }\n",
       "\n",
       "    .dataframe thead th {\n",
       "        text-align: right;\n",
       "    }\n",
       "</style>\n",
       "<table border=\"1\" class=\"dataframe\">\n",
       "  <thead>\n",
       "    <tr style=\"text-align: right;\">\n",
       "      <th></th>\n",
       "      <th>timestamp</th>\n",
       "      <th>indicator</th>\n",
       "    </tr>\n",
       "  </thead>\n",
       "  <tbody>\n",
       "    <tr>\n",
       "      <th>0</th>\n",
       "      <td>2022-12-27 20:00:00</td>\n",
       "      <td>NaN</td>\n",
       "    </tr>\n",
       "    <tr>\n",
       "      <th>1</th>\n",
       "      <td>2022-12-27 19:45:00</td>\n",
       "      <td>NaN</td>\n",
       "    </tr>\n",
       "    <tr>\n",
       "      <th>2</th>\n",
       "      <td>2022-12-27 19:30:00</td>\n",
       "      <td>NaN</td>\n",
       "    </tr>\n",
       "    <tr>\n",
       "      <th>3</th>\n",
       "      <td>2022-12-27 19:15:00</td>\n",
       "      <td>NaN</td>\n",
       "    </tr>\n",
       "    <tr>\n",
       "      <th>4</th>\n",
       "      <td>2022-12-27 19:00:00</td>\n",
       "      <td>87.35398</td>\n",
       "    </tr>\n",
       "    <tr>\n",
       "      <th>...</th>\n",
       "      <td>...</td>\n",
       "      <td>...</td>\n",
       "    </tr>\n",
       "    <tr>\n",
       "      <th>95</th>\n",
       "      <td>2022-12-23 12:00:00</td>\n",
       "      <td>89.15500</td>\n",
       "    </tr>\n",
       "    <tr>\n",
       "      <th>96</th>\n",
       "      <td>2022-12-23 11:45:00</td>\n",
       "      <td>89.12098</td>\n",
       "    </tr>\n",
       "    <tr>\n",
       "      <th>97</th>\n",
       "      <td>2022-12-23 11:30:00</td>\n",
       "      <td>89.02398</td>\n",
       "    </tr>\n",
       "    <tr>\n",
       "      <th>98</th>\n",
       "      <td>2022-12-23 11:15:00</td>\n",
       "      <td>88.89798</td>\n",
       "    </tr>\n",
       "    <tr>\n",
       "      <th>99</th>\n",
       "      <td>2022-12-23 11:00:00</td>\n",
       "      <td>88.82998</td>\n",
       "    </tr>\n",
       "  </tbody>\n",
       "</table>\n",
       "<p>100 rows × 2 columns</p>\n",
       "</div>"
      ],
      "text/plain": [
       "             timestamp  indicator\n",
       "0  2022-12-27 20:00:00        NaN\n",
       "1  2022-12-27 19:45:00        NaN\n",
       "2  2022-12-27 19:30:00        NaN\n",
       "3  2022-12-27 19:15:00        NaN\n",
       "4  2022-12-27 19:00:00   87.35398\n",
       "..                 ...        ...\n",
       "95 2022-12-23 12:00:00   89.15500\n",
       "96 2022-12-23 11:45:00   89.12098\n",
       "97 2022-12-23 11:30:00   89.02398\n",
       "98 2022-12-23 11:15:00   88.89798\n",
       "99 2022-12-23 11:00:00   88.82998\n",
       "\n",
       "[100 rows x 2 columns]"
      ]
     },
     "execution_count": 25,
     "metadata": {},
     "output_type": "execute_result"
    }
   ],
   "source": [
    "\n",
    "indicator1(df, timeperiod= 5)"
   ]
  },
  {
   "cell_type": "code",
   "execution_count": 80,
   "metadata": {},
   "outputs": [],
   "source": [
    "class Strategy:\n",
    "\n",
    "    def __init__(self , symbol):\n",
    "        self.symbol  = symbol\n",
    "        \n",
    "\n",
    "        self.df = pd.DataFrame()\n",
    "\n",
    "    def get_script_data(self):\n",
    "        self.script = ScriptData()\n",
    "        self.script.fetch_intraday_data(self.symbol)\n",
    "        self.script.convert_intraday_data(self.symbol)\n",
    "\n",
    "        self.df = self.script.data[self.symbol]\n",
    "\n",
    "        self.indicator = indicator1(df , timeperiod=5)\n",
    "\n",
    "        self.df['indicator_data'] = self.indicator['indicator']\n",
    "\n",
    "\n",
    "    def get_signals(self):\n",
    "        df = self.df\n",
    "\n",
    "        df['signal'] = np.nan\n",
    "        for i in range(len(df)):\n",
    "            if df.iloc[i-1]['close']>df.iloc[i-1]['indicator_data'] and df.iloc[i]['close'] < df.iloc[i]['indicator_data']:\n",
    "                df['signal'][i] = 'BUY'\n",
    "            elif df.iloc[i-1]['close'] < df.iloc[i-1]['indicator_data'] and df.iloc[i]['close'] > df.iloc[i]['indicator_data']:\n",
    "                df['signal'][i] = 'SELL'\n",
    "\n",
    "        self.df = df\n",
    "        \n",
    "\n",
    "        return self.df[['timestamp','signal']].copy().dropna()\n",
    "\n",
    "    def plot(self):\n",
    "        df = self.df\n",
    "        fig = px.line(df , y = ['close','indicator_data'])\n",
    "        fig.show()\n",
    "\n",
    "        fig = go.Figure(data=[go.Candlestick(\n",
    "                       open=df['open'], high=df['high'],\n",
    "                       low=df['low'], close=df['close'] ) ])\n",
    "        fig.add_trace(go.Line(y=df['indicator_data']))\n",
    "\n",
    "        fig.show()\n",
    "\n",
    "\n",
    "\n",
    "    "
   ]
  },
  {
   "cell_type": "code",
   "execution_count": 81,
   "metadata": {},
   "outputs": [],
   "source": [
    "strategy = Strategy('GOOGL')"
   ]
  },
  {
   "cell_type": "code",
   "execution_count": 82,
   "metadata": {},
   "outputs": [],
   "source": [
    "strategy.get_script_data()"
   ]
  },
  {
   "cell_type": "code",
   "execution_count": 83,
   "metadata": {},
   "outputs": [
    {
     "data": {
      "text/html": [
       "<div>\n",
       "<style scoped>\n",
       "    .dataframe tbody tr th:only-of-type {\n",
       "        vertical-align: middle;\n",
       "    }\n",
       "\n",
       "    .dataframe tbody tr th {\n",
       "        vertical-align: top;\n",
       "    }\n",
       "\n",
       "    .dataframe thead th {\n",
       "        text-align: right;\n",
       "    }\n",
       "</style>\n",
       "<table border=\"1\" class=\"dataframe\">\n",
       "  <thead>\n",
       "    <tr style=\"text-align: right;\">\n",
       "      <th></th>\n",
       "      <th>timestamp</th>\n",
       "      <th>signal</th>\n",
       "    </tr>\n",
       "  </thead>\n",
       "  <tbody>\n",
       "    <tr>\n",
       "      <th>5</th>\n",
       "      <td>2022-12-27 18:45:00</td>\n",
       "      <td>BUY</td>\n",
       "    </tr>\n",
       "    <tr>\n",
       "      <th>6</th>\n",
       "      <td>2022-12-27 18:30:00</td>\n",
       "      <td>SELL</td>\n",
       "    </tr>\n",
       "    <tr>\n",
       "      <th>8</th>\n",
       "      <td>2022-12-27 18:00:00</td>\n",
       "      <td>BUY</td>\n",
       "    </tr>\n",
       "    <tr>\n",
       "      <th>13</th>\n",
       "      <td>2022-12-27 16:45:00</td>\n",
       "      <td>SELL</td>\n",
       "    </tr>\n",
       "    <tr>\n",
       "      <th>19</th>\n",
       "      <td>2022-12-27 15:15:00</td>\n",
       "      <td>BUY</td>\n",
       "    </tr>\n",
       "    <tr>\n",
       "      <th>23</th>\n",
       "      <td>2022-12-27 14:15:00</td>\n",
       "      <td>SELL</td>\n",
       "    </tr>\n",
       "    <tr>\n",
       "      <th>24</th>\n",
       "      <td>2022-12-27 14:00:00</td>\n",
       "      <td>BUY</td>\n",
       "    </tr>\n",
       "    <tr>\n",
       "      <th>25</th>\n",
       "      <td>2022-12-27 13:45:00</td>\n",
       "      <td>SELL</td>\n",
       "    </tr>\n",
       "    <tr>\n",
       "      <th>38</th>\n",
       "      <td>2022-12-27 10:30:00</td>\n",
       "      <td>BUY</td>\n",
       "    </tr>\n",
       "    <tr>\n",
       "      <th>41</th>\n",
       "      <td>2022-12-27 09:45:00</td>\n",
       "      <td>SELL</td>\n",
       "    </tr>\n",
       "    <tr>\n",
       "      <th>56</th>\n",
       "      <td>2022-12-27 06:00:00</td>\n",
       "      <td>BUY</td>\n",
       "    </tr>\n",
       "    <tr>\n",
       "      <th>57</th>\n",
       "      <td>2022-12-27 05:45:00</td>\n",
       "      <td>SELL</td>\n",
       "    </tr>\n",
       "    <tr>\n",
       "      <th>61</th>\n",
       "      <td>2022-12-27 04:45:00</td>\n",
       "      <td>BUY</td>\n",
       "    </tr>\n",
       "    <tr>\n",
       "      <th>71</th>\n",
       "      <td>2022-12-23 18:15:00</td>\n",
       "      <td>SELL</td>\n",
       "    </tr>\n",
       "    <tr>\n",
       "      <th>72</th>\n",
       "      <td>2022-12-23 18:00:00</td>\n",
       "      <td>BUY</td>\n",
       "    </tr>\n",
       "    <tr>\n",
       "      <th>73</th>\n",
       "      <td>2022-12-23 17:30:00</td>\n",
       "      <td>SELL</td>\n",
       "    </tr>\n",
       "    <tr>\n",
       "      <th>74</th>\n",
       "      <td>2022-12-23 17:15:00</td>\n",
       "      <td>BUY</td>\n",
       "    </tr>\n",
       "    <tr>\n",
       "      <th>76</th>\n",
       "      <td>2022-12-23 16:45:00</td>\n",
       "      <td>SELL</td>\n",
       "    </tr>\n",
       "    <tr>\n",
       "      <th>77</th>\n",
       "      <td>2022-12-23 16:30:00</td>\n",
       "      <td>BUY</td>\n",
       "    </tr>\n",
       "    <tr>\n",
       "      <th>78</th>\n",
       "      <td>2022-12-23 16:15:00</td>\n",
       "      <td>SELL</td>\n",
       "    </tr>\n",
       "    <tr>\n",
       "      <th>85</th>\n",
       "      <td>2022-12-23 14:30:00</td>\n",
       "      <td>BUY</td>\n",
       "    </tr>\n",
       "    <tr>\n",
       "      <th>88</th>\n",
       "      <td>2022-12-23 13:45:00</td>\n",
       "      <td>SELL</td>\n",
       "    </tr>\n",
       "    <tr>\n",
       "      <th>90</th>\n",
       "      <td>2022-12-23 13:15:00</td>\n",
       "      <td>BUY</td>\n",
       "    </tr>\n",
       "  </tbody>\n",
       "</table>\n",
       "</div>"
      ],
      "text/plain": [
       "             timestamp signal\n",
       "5  2022-12-27 18:45:00    BUY\n",
       "6  2022-12-27 18:30:00   SELL\n",
       "8  2022-12-27 18:00:00    BUY\n",
       "13 2022-12-27 16:45:00   SELL\n",
       "19 2022-12-27 15:15:00    BUY\n",
       "23 2022-12-27 14:15:00   SELL\n",
       "24 2022-12-27 14:00:00    BUY\n",
       "25 2022-12-27 13:45:00   SELL\n",
       "38 2022-12-27 10:30:00    BUY\n",
       "41 2022-12-27 09:45:00   SELL\n",
       "56 2022-12-27 06:00:00    BUY\n",
       "57 2022-12-27 05:45:00   SELL\n",
       "61 2022-12-27 04:45:00    BUY\n",
       "71 2022-12-23 18:15:00   SELL\n",
       "72 2022-12-23 18:00:00    BUY\n",
       "73 2022-12-23 17:30:00   SELL\n",
       "74 2022-12-23 17:15:00    BUY\n",
       "76 2022-12-23 16:45:00   SELL\n",
       "77 2022-12-23 16:30:00    BUY\n",
       "78 2022-12-23 16:15:00   SELL\n",
       "85 2022-12-23 14:30:00    BUY\n",
       "88 2022-12-23 13:45:00   SELL\n",
       "90 2022-12-23 13:15:00    BUY"
      ]
     },
     "execution_count": 83,
     "metadata": {},
     "output_type": "execute_result"
    }
   ],
   "source": [
    "strategy.get_signals()"
   ]
  },
  {
   "cell_type": "code",
   "execution_count": 84,
   "metadata": {},
   "outputs": [
    {
     "data": {
      "application/vnd.plotly.v1+json": {
       "config": {
        "plotlyServerURL": "https://plot.ly"
       },
       "data": [
        {
         "hovertemplate": "variable=close<br>index=%{x}<br>value=%{y}<extra></extra>",
         "legendgroup": "close",
         "line": {
          "color": "#636efa",
          "dash": "solid"
         },
         "marker": {
          "symbol": "circle"
         },
         "mode": "lines",
         "name": "close",
         "orientation": "v",
         "showlegend": true,
         "type": "scatter",
         "x": [
          0,
          1,
          2,
          3,
          4,
          5,
          6,
          7,
          8,
          9,
          10,
          11,
          12,
          13,
          14,
          15,
          16,
          17,
          18,
          19,
          20,
          21,
          22,
          23,
          24,
          25,
          26,
          27,
          28,
          29,
          30,
          31,
          32,
          33,
          34,
          35,
          36,
          37,
          38,
          39,
          40,
          41,
          42,
          43,
          44,
          45,
          46,
          47,
          48,
          49,
          50,
          51,
          52,
          53,
          54,
          55,
          56,
          57,
          58,
          59,
          60,
          61,
          62,
          63,
          64,
          65,
          66,
          67,
          68,
          69,
          70,
          71,
          72,
          73,
          74,
          75,
          76,
          77,
          78,
          79,
          80,
          81,
          82,
          83,
          84,
          85,
          86,
          87,
          88,
          89,
          90,
          91,
          92,
          93,
          94,
          95,
          96,
          97,
          98,
          99
         ],
         "xaxis": "x",
         "y": [
          87.3599,
          87.37,
          87.28,
          87.39,
          87.37,
          87.35,
          87.35,
          87.39,
          87.29,
          87.2657,
          87.2,
          87.2499,
          87.25,
          87.26,
          87.25,
          87.37,
          87.42,
          87.585,
          87.455,
          87.42,
          87.285,
          87.115,
          87.085,
          87.32,
          87.195,
          87.37,
          87.455,
          87.5877,
          87.59,
          87.58,
          87.7801,
          87.97,
          87.77,
          88.01,
          88,
          88.07,
          88.095,
          88.101,
          88.04,
          87.52,
          87.52,
          87.9,
          88.8,
          88.95,
          88.9771,
          88.94,
          89.34,
          89.3494,
          89.34,
          89.54,
          89.58,
          89.61,
          89.85,
          89.7,
          89.87,
          89.8,
          89.73,
          89.78,
          89.81,
          89.8,
          89.79,
          89.72,
          89.55,
          89.55,
          89.05,
          89.09,
          89.19,
          89.09,
          89.09,
          89.08,
          89.04,
          89.08,
          89.01,
          89.08,
          89.02,
          89.04,
          89.05,
          89,
          89.2,
          89.21,
          89.12,
          89.145,
          89.31,
          89.39,
          89.26,
          89.17,
          89.14,
          89.16,
          89.24,
          89.43,
          89.15,
          89.165,
          89.17,
          89.21,
          89.11,
          89.12,
          88.9949,
          88.685,
          88.58,
          88.77
         ],
         "yaxis": "y"
        },
        {
         "hovertemplate": "variable=indicator_data<br>index=%{x}<br>value=%{y}<extra></extra>",
         "legendgroup": "indicator_data",
         "line": {
          "color": "#EF553B",
          "dash": "solid"
         },
         "marker": {
          "symbol": "circle"
         },
         "mode": "lines",
         "name": "indicator_data",
         "orientation": "v",
         "showlegend": true,
         "type": "scatter",
         "x": [
          0,
          1,
          2,
          3,
          4,
          5,
          6,
          7,
          8,
          9,
          10,
          11,
          12,
          13,
          14,
          15,
          16,
          17,
          18,
          19,
          20,
          21,
          22,
          23,
          24,
          25,
          26,
          27,
          28,
          29,
          30,
          31,
          32,
          33,
          34,
          35,
          36,
          37,
          38,
          39,
          40,
          41,
          42,
          43,
          44,
          45,
          46,
          47,
          48,
          49,
          50,
          51,
          52,
          53,
          54,
          55,
          56,
          57,
          58,
          59,
          60,
          61,
          62,
          63,
          64,
          65,
          66,
          67,
          68,
          69,
          70,
          71,
          72,
          73,
          74,
          75,
          76,
          77,
          78,
          79,
          80,
          81,
          82,
          83,
          84,
          85,
          86,
          87,
          88,
          89,
          90,
          91,
          92,
          93,
          94,
          95,
          96,
          97,
          98,
          99
         ],
         "xaxis": "x",
         "y": [
          null,
          null,
          null,
          null,
          87.35398,
          87.352,
          87.348,
          87.37,
          87.35,
          87.32914,
          87.29914,
          87.27911999999999,
          87.25111999999999,
          87.24512,
          87.24198,
          87.27598,
          87.31,
          87.377,
          87.416,
          87.45,
          87.43299999999999,
          87.372,
          87.27199999999999,
          87.24499999999999,
          87.19999999999999,
          87.217,
          87.285,
          87.38553999999999,
          87.43954,
          87.51653999999999,
          87.59855999999999,
          87.70156,
          87.73802,
          87.82202,
          87.90602,
          87.964,
          87.98899999999999,
          88.05519999999999,
          88.0612,
          87.9652,
          87.8552,
          87.81620000000001,
          87.956,
          88.138,
          88.42942000000001,
          88.71342,
          89.00142000000001,
          89.1113,
          89.1893,
          89.30188000000001,
          89.42988,
          89.48388,
          89.58399999999999,
          89.656,
          89.722,
          89.76599999999999,
          89.79,
          89.776,
          89.79800000000002,
          89.784,
          89.78200000000001,
          89.78,
          89.73400000000001,
          89.682,
          89.53200000000001,
          89.39200000000001,
          89.286,
          89.194,
          89.102,
          89.108,
          89.098,
          89.076,
          89.06,
          89.05799999999999,
          89.04599999999999,
          89.046,
          89.04,
          89.038,
          89.062,
          89.1,
          89.116,
          89.13499999999999,
          89.19699999999999,
          89.23499999999999,
          89.24499999999999,
          89.255,
          89.25399999999999,
          89.224,
          89.194,
          89.22800000000001,
          89.224,
          89.22900000000001,
          89.23100000000002,
          89.225,
          89.161,
          89.155,
          89.12098,
          89.02398,
          88.89798,
          88.82997999999999
         ],
         "yaxis": "y"
        }
       ],
       "layout": {
        "legend": {
         "title": {
          "text": "variable"
         },
         "tracegroupgap": 0
        },
        "margin": {
         "t": 60
        },
        "template": {
         "data": {
          "bar": [
           {
            "error_x": {
             "color": "#2a3f5f"
            },
            "error_y": {
             "color": "#2a3f5f"
            },
            "marker": {
             "line": {
              "color": "#E5ECF6",
              "width": 0.5
             },
             "pattern": {
              "fillmode": "overlay",
              "size": 10,
              "solidity": 0.2
             }
            },
            "type": "bar"
           }
          ],
          "barpolar": [
           {
            "marker": {
             "line": {
              "color": "#E5ECF6",
              "width": 0.5
             },
             "pattern": {
              "fillmode": "overlay",
              "size": 10,
              "solidity": 0.2
             }
            },
            "type": "barpolar"
           }
          ],
          "carpet": [
           {
            "aaxis": {
             "endlinecolor": "#2a3f5f",
             "gridcolor": "white",
             "linecolor": "white",
             "minorgridcolor": "white",
             "startlinecolor": "#2a3f5f"
            },
            "baxis": {
             "endlinecolor": "#2a3f5f",
             "gridcolor": "white",
             "linecolor": "white",
             "minorgridcolor": "white",
             "startlinecolor": "#2a3f5f"
            },
            "type": "carpet"
           }
          ],
          "choropleth": [
           {
            "colorbar": {
             "outlinewidth": 0,
             "ticks": ""
            },
            "type": "choropleth"
           }
          ],
          "contour": [
           {
            "colorbar": {
             "outlinewidth": 0,
             "ticks": ""
            },
            "colorscale": [
             [
              0,
              "#0d0887"
             ],
             [
              0.1111111111111111,
              "#46039f"
             ],
             [
              0.2222222222222222,
              "#7201a8"
             ],
             [
              0.3333333333333333,
              "#9c179e"
             ],
             [
              0.4444444444444444,
              "#bd3786"
             ],
             [
              0.5555555555555556,
              "#d8576b"
             ],
             [
              0.6666666666666666,
              "#ed7953"
             ],
             [
              0.7777777777777778,
              "#fb9f3a"
             ],
             [
              0.8888888888888888,
              "#fdca26"
             ],
             [
              1,
              "#f0f921"
             ]
            ],
            "type": "contour"
           }
          ],
          "contourcarpet": [
           {
            "colorbar": {
             "outlinewidth": 0,
             "ticks": ""
            },
            "type": "contourcarpet"
           }
          ],
          "heatmap": [
           {
            "colorbar": {
             "outlinewidth": 0,
             "ticks": ""
            },
            "colorscale": [
             [
              0,
              "#0d0887"
             ],
             [
              0.1111111111111111,
              "#46039f"
             ],
             [
              0.2222222222222222,
              "#7201a8"
             ],
             [
              0.3333333333333333,
              "#9c179e"
             ],
             [
              0.4444444444444444,
              "#bd3786"
             ],
             [
              0.5555555555555556,
              "#d8576b"
             ],
             [
              0.6666666666666666,
              "#ed7953"
             ],
             [
              0.7777777777777778,
              "#fb9f3a"
             ],
             [
              0.8888888888888888,
              "#fdca26"
             ],
             [
              1,
              "#f0f921"
             ]
            ],
            "type": "heatmap"
           }
          ],
          "heatmapgl": [
           {
            "colorbar": {
             "outlinewidth": 0,
             "ticks": ""
            },
            "colorscale": [
             [
              0,
              "#0d0887"
             ],
             [
              0.1111111111111111,
              "#46039f"
             ],
             [
              0.2222222222222222,
              "#7201a8"
             ],
             [
              0.3333333333333333,
              "#9c179e"
             ],
             [
              0.4444444444444444,
              "#bd3786"
             ],
             [
              0.5555555555555556,
              "#d8576b"
             ],
             [
              0.6666666666666666,
              "#ed7953"
             ],
             [
              0.7777777777777778,
              "#fb9f3a"
             ],
             [
              0.8888888888888888,
              "#fdca26"
             ],
             [
              1,
              "#f0f921"
             ]
            ],
            "type": "heatmapgl"
           }
          ],
          "histogram": [
           {
            "marker": {
             "pattern": {
              "fillmode": "overlay",
              "size": 10,
              "solidity": 0.2
             }
            },
            "type": "histogram"
           }
          ],
          "histogram2d": [
           {
            "colorbar": {
             "outlinewidth": 0,
             "ticks": ""
            },
            "colorscale": [
             [
              0,
              "#0d0887"
             ],
             [
              0.1111111111111111,
              "#46039f"
             ],
             [
              0.2222222222222222,
              "#7201a8"
             ],
             [
              0.3333333333333333,
              "#9c179e"
             ],
             [
              0.4444444444444444,
              "#bd3786"
             ],
             [
              0.5555555555555556,
              "#d8576b"
             ],
             [
              0.6666666666666666,
              "#ed7953"
             ],
             [
              0.7777777777777778,
              "#fb9f3a"
             ],
             [
              0.8888888888888888,
              "#fdca26"
             ],
             [
              1,
              "#f0f921"
             ]
            ],
            "type": "histogram2d"
           }
          ],
          "histogram2dcontour": [
           {
            "colorbar": {
             "outlinewidth": 0,
             "ticks": ""
            },
            "colorscale": [
             [
              0,
              "#0d0887"
             ],
             [
              0.1111111111111111,
              "#46039f"
             ],
             [
              0.2222222222222222,
              "#7201a8"
             ],
             [
              0.3333333333333333,
              "#9c179e"
             ],
             [
              0.4444444444444444,
              "#bd3786"
             ],
             [
              0.5555555555555556,
              "#d8576b"
             ],
             [
              0.6666666666666666,
              "#ed7953"
             ],
             [
              0.7777777777777778,
              "#fb9f3a"
             ],
             [
              0.8888888888888888,
              "#fdca26"
             ],
             [
              1,
              "#f0f921"
             ]
            ],
            "type": "histogram2dcontour"
           }
          ],
          "mesh3d": [
           {
            "colorbar": {
             "outlinewidth": 0,
             "ticks": ""
            },
            "type": "mesh3d"
           }
          ],
          "parcoords": [
           {
            "line": {
             "colorbar": {
              "outlinewidth": 0,
              "ticks": ""
             }
            },
            "type": "parcoords"
           }
          ],
          "pie": [
           {
            "automargin": true,
            "type": "pie"
           }
          ],
          "scatter": [
           {
            "fillpattern": {
             "fillmode": "overlay",
             "size": 10,
             "solidity": 0.2
            },
            "type": "scatter"
           }
          ],
          "scatter3d": [
           {
            "line": {
             "colorbar": {
              "outlinewidth": 0,
              "ticks": ""
             }
            },
            "marker": {
             "colorbar": {
              "outlinewidth": 0,
              "ticks": ""
             }
            },
            "type": "scatter3d"
           }
          ],
          "scattercarpet": [
           {
            "marker": {
             "colorbar": {
              "outlinewidth": 0,
              "ticks": ""
             }
            },
            "type": "scattercarpet"
           }
          ],
          "scattergeo": [
           {
            "marker": {
             "colorbar": {
              "outlinewidth": 0,
              "ticks": ""
             }
            },
            "type": "scattergeo"
           }
          ],
          "scattergl": [
           {
            "marker": {
             "colorbar": {
              "outlinewidth": 0,
              "ticks": ""
             }
            },
            "type": "scattergl"
           }
          ],
          "scattermapbox": [
           {
            "marker": {
             "colorbar": {
              "outlinewidth": 0,
              "ticks": ""
             }
            },
            "type": "scattermapbox"
           }
          ],
          "scatterpolar": [
           {
            "marker": {
             "colorbar": {
              "outlinewidth": 0,
              "ticks": ""
             }
            },
            "type": "scatterpolar"
           }
          ],
          "scatterpolargl": [
           {
            "marker": {
             "colorbar": {
              "outlinewidth": 0,
              "ticks": ""
             }
            },
            "type": "scatterpolargl"
           }
          ],
          "scatterternary": [
           {
            "marker": {
             "colorbar": {
              "outlinewidth": 0,
              "ticks": ""
             }
            },
            "type": "scatterternary"
           }
          ],
          "surface": [
           {
            "colorbar": {
             "outlinewidth": 0,
             "ticks": ""
            },
            "colorscale": [
             [
              0,
              "#0d0887"
             ],
             [
              0.1111111111111111,
              "#46039f"
             ],
             [
              0.2222222222222222,
              "#7201a8"
             ],
             [
              0.3333333333333333,
              "#9c179e"
             ],
             [
              0.4444444444444444,
              "#bd3786"
             ],
             [
              0.5555555555555556,
              "#d8576b"
             ],
             [
              0.6666666666666666,
              "#ed7953"
             ],
             [
              0.7777777777777778,
              "#fb9f3a"
             ],
             [
              0.8888888888888888,
              "#fdca26"
             ],
             [
              1,
              "#f0f921"
             ]
            ],
            "type": "surface"
           }
          ],
          "table": [
           {
            "cells": {
             "fill": {
              "color": "#EBF0F8"
             },
             "line": {
              "color": "white"
             }
            },
            "header": {
             "fill": {
              "color": "#C8D4E3"
             },
             "line": {
              "color": "white"
             }
            },
            "type": "table"
           }
          ]
         },
         "layout": {
          "annotationdefaults": {
           "arrowcolor": "#2a3f5f",
           "arrowhead": 0,
           "arrowwidth": 1
          },
          "autotypenumbers": "strict",
          "coloraxis": {
           "colorbar": {
            "outlinewidth": 0,
            "ticks": ""
           }
          },
          "colorscale": {
           "diverging": [
            [
             0,
             "#8e0152"
            ],
            [
             0.1,
             "#c51b7d"
            ],
            [
             0.2,
             "#de77ae"
            ],
            [
             0.3,
             "#f1b6da"
            ],
            [
             0.4,
             "#fde0ef"
            ],
            [
             0.5,
             "#f7f7f7"
            ],
            [
             0.6,
             "#e6f5d0"
            ],
            [
             0.7,
             "#b8e186"
            ],
            [
             0.8,
             "#7fbc41"
            ],
            [
             0.9,
             "#4d9221"
            ],
            [
             1,
             "#276419"
            ]
           ],
           "sequential": [
            [
             0,
             "#0d0887"
            ],
            [
             0.1111111111111111,
             "#46039f"
            ],
            [
             0.2222222222222222,
             "#7201a8"
            ],
            [
             0.3333333333333333,
             "#9c179e"
            ],
            [
             0.4444444444444444,
             "#bd3786"
            ],
            [
             0.5555555555555556,
             "#d8576b"
            ],
            [
             0.6666666666666666,
             "#ed7953"
            ],
            [
             0.7777777777777778,
             "#fb9f3a"
            ],
            [
             0.8888888888888888,
             "#fdca26"
            ],
            [
             1,
             "#f0f921"
            ]
           ],
           "sequentialminus": [
            [
             0,
             "#0d0887"
            ],
            [
             0.1111111111111111,
             "#46039f"
            ],
            [
             0.2222222222222222,
             "#7201a8"
            ],
            [
             0.3333333333333333,
             "#9c179e"
            ],
            [
             0.4444444444444444,
             "#bd3786"
            ],
            [
             0.5555555555555556,
             "#d8576b"
            ],
            [
             0.6666666666666666,
             "#ed7953"
            ],
            [
             0.7777777777777778,
             "#fb9f3a"
            ],
            [
             0.8888888888888888,
             "#fdca26"
            ],
            [
             1,
             "#f0f921"
            ]
           ]
          },
          "colorway": [
           "#636efa",
           "#EF553B",
           "#00cc96",
           "#ab63fa",
           "#FFA15A",
           "#19d3f3",
           "#FF6692",
           "#B6E880",
           "#FF97FF",
           "#FECB52"
          ],
          "font": {
           "color": "#2a3f5f"
          },
          "geo": {
           "bgcolor": "white",
           "lakecolor": "white",
           "landcolor": "#E5ECF6",
           "showlakes": true,
           "showland": true,
           "subunitcolor": "white"
          },
          "hoverlabel": {
           "align": "left"
          },
          "hovermode": "closest",
          "mapbox": {
           "style": "light"
          },
          "paper_bgcolor": "white",
          "plot_bgcolor": "#E5ECF6",
          "polar": {
           "angularaxis": {
            "gridcolor": "white",
            "linecolor": "white",
            "ticks": ""
           },
           "bgcolor": "#E5ECF6",
           "radialaxis": {
            "gridcolor": "white",
            "linecolor": "white",
            "ticks": ""
           }
          },
          "scene": {
           "xaxis": {
            "backgroundcolor": "#E5ECF6",
            "gridcolor": "white",
            "gridwidth": 2,
            "linecolor": "white",
            "showbackground": true,
            "ticks": "",
            "zerolinecolor": "white"
           },
           "yaxis": {
            "backgroundcolor": "#E5ECF6",
            "gridcolor": "white",
            "gridwidth": 2,
            "linecolor": "white",
            "showbackground": true,
            "ticks": "",
            "zerolinecolor": "white"
           },
           "zaxis": {
            "backgroundcolor": "#E5ECF6",
            "gridcolor": "white",
            "gridwidth": 2,
            "linecolor": "white",
            "showbackground": true,
            "ticks": "",
            "zerolinecolor": "white"
           }
          },
          "shapedefaults": {
           "line": {
            "color": "#2a3f5f"
           }
          },
          "ternary": {
           "aaxis": {
            "gridcolor": "white",
            "linecolor": "white",
            "ticks": ""
           },
           "baxis": {
            "gridcolor": "white",
            "linecolor": "white",
            "ticks": ""
           },
           "bgcolor": "#E5ECF6",
           "caxis": {
            "gridcolor": "white",
            "linecolor": "white",
            "ticks": ""
           }
          },
          "title": {
           "x": 0.05
          },
          "xaxis": {
           "automargin": true,
           "gridcolor": "white",
           "linecolor": "white",
           "ticks": "",
           "title": {
            "standoff": 15
           },
           "zerolinecolor": "white",
           "zerolinewidth": 2
          },
          "yaxis": {
           "automargin": true,
           "gridcolor": "white",
           "linecolor": "white",
           "ticks": "",
           "title": {
            "standoff": 15
           },
           "zerolinecolor": "white",
           "zerolinewidth": 2
          }
         }
        },
        "xaxis": {
         "anchor": "y",
         "domain": [
          0,
          1
         ],
         "title": {
          "text": "index"
         }
        },
        "yaxis": {
         "anchor": "x",
         "domain": [
          0,
          1
         ],
         "title": {
          "text": "value"
         }
        }
       }
      }
     },
     "metadata": {},
     "output_type": "display_data"
    },
    {
     "data": {
      "application/vnd.plotly.v1+json": {
       "config": {
        "plotlyServerURL": "https://plot.ly"
       },
       "data": [
        {
         "close": [
          87.3599,
          87.37,
          87.28,
          87.39,
          87.37,
          87.35,
          87.35,
          87.39,
          87.29,
          87.2657,
          87.2,
          87.2499,
          87.25,
          87.26,
          87.25,
          87.37,
          87.42,
          87.585,
          87.455,
          87.42,
          87.285,
          87.115,
          87.085,
          87.32,
          87.195,
          87.37,
          87.455,
          87.5877,
          87.59,
          87.58,
          87.7801,
          87.97,
          87.77,
          88.01,
          88,
          88.07,
          88.095,
          88.101,
          88.04,
          87.52,
          87.52,
          87.9,
          88.8,
          88.95,
          88.9771,
          88.94,
          89.34,
          89.3494,
          89.34,
          89.54,
          89.58,
          89.61,
          89.85,
          89.7,
          89.87,
          89.8,
          89.73,
          89.78,
          89.81,
          89.8,
          89.79,
          89.72,
          89.55,
          89.55,
          89.05,
          89.09,
          89.19,
          89.09,
          89.09,
          89.08,
          89.04,
          89.08,
          89.01,
          89.08,
          89.02,
          89.04,
          89.05,
          89,
          89.2,
          89.21,
          89.12,
          89.145,
          89.31,
          89.39,
          89.26,
          89.17,
          89.14,
          89.16,
          89.24,
          89.43,
          89.15,
          89.165,
          89.17,
          89.21,
          89.11,
          89.12,
          88.9949,
          88.685,
          88.58,
          88.77
         ],
         "high": [
          87.38,
          87.37,
          87.39,
          87.49,
          87.37,
          87.36,
          87.36,
          87.4,
          87.29,
          87.2657,
          87.2191,
          87.39,
          87.39,
          87.34,
          87.46,
          87.6,
          87.5855,
          87.68,
          87.53,
          87.43,
          87.4,
          87.21,
          87.31,
          87.36,
          87.36,
          87.51,
          87.65,
          87.73,
          87.625,
          87.855,
          87.98,
          88.035,
          88.05,
          88.1,
          88.16,
          88.18,
          88.4,
          88.21,
          88.1,
          87.525,
          87.895,
          88.94,
          89.187,
          89.08,
          88.9771,
          89.39,
          89.4,
          89.7,
          89.53,
          89.56,
          89.63,
          89.8,
          89.89,
          89.86,
          89.87,
          89.8,
          89.79,
          89.85,
          89.82,
          89.8,
          89.79,
          89.72,
          89.58,
          89.62,
          89.12,
          89.09,
          89.19,
          89.09,
          89.09,
          89.08,
          89.05,
          89.09,
          89.12,
          89.08,
          89.08,
          89.04,
          89.23,
          89.23,
          89.23,
          89.3,
          89.181,
          89.45,
          89.49,
          89.42,
          89.38,
          89.28,
          89.205,
          89.3,
          89.545,
          89.47,
          89.425,
          89.27,
          89.47,
          89.46,
          89.265,
          89.12,
          89.195,
          88.9,
          88.89,
          89.37
         ],
         "low": [
          87.18,
          87.19,
          87.28,
          87.3,
          87.32,
          87.33,
          87.3,
          87.29,
          87.21,
          87.2,
          87.1529,
          87.2,
          87.24,
          87.26,
          87.22,
          87.31,
          87.26,
          87.44,
          87.27,
          87.18,
          87.12,
          87.01,
          87.07,
          87.17,
          87.1409,
          87.36,
          87.425,
          87.56,
          87.4,
          87.531,
          87.7,
          87.77,
          87.76,
          87.64,
          87.915,
          87.92,
          87.99,
          87.785,
          87.41,
          87.23,
          87.45,
          87.71,
          88.57,
          88.91,
          88.78,
          88.94,
          89.3,
          89.007,
          89.34,
          89.53,
          89.58,
          89.6,
          89.76,
          89.7,
          89.77,
          89.72,
          89.73,
          89.78,
          89.81,
          89.78,
          89.71,
          89.54,
          89.46,
          89.2,
          89.05,
          89.09,
          89.19,
          89.09,
          89.05,
          89.08,
          89.04,
          89.02,
          89.01,
          89.01,
          89.02,
          89.01,
          89.01,
          89,
          89.05,
          88.99,
          88.9725,
          89.11,
          89.2,
          89.17,
          89.15,
          89.03,
          88.95,
          89.02,
          89.21,
          89.135,
          89.1,
          89.07,
          89.1,
          88.99,
          88.97,
          88.8,
          88.565,
          88.52,
          88.21,
          88.73
         ],
         "open": [
          87.38,
          87.27,
          87.39,
          87.3,
          87.35,
          87.35,
          87.36,
          87.29,
          87.21,
          87.2,
          87.2,
          87.25,
          87.27,
          87.2801,
          87.38,
          87.39,
          87.585,
          87.46,
          87.425,
          87.29,
          87.12,
          87.08,
          87.31,
          87.195,
          87.36,
          87.46,
          87.59,
          87.585,
          87.57,
          87.785,
          87.97,
          87.79,
          88,
          88.01,
          88.09,
          88.1,
          88.115,
          88.04,
          87.52,
          87.5,
          87.895,
          88.795,
          88.94,
          88.96,
          88.89,
          89.39,
          89.39,
          89.7,
          89.53,
          89.54,
          89.63,
          89.77,
          89.76,
          89.83,
          89.8,
          89.72,
          89.79,
          89.82,
          89.82,
          89.78,
          89.71,
          89.54,
          89.56,
          89.59,
          89.11,
          89.09,
          89.19,
          89.09,
          89.05,
          89.08,
          89.05,
          89.02,
          89.09,
          89.01,
          89.08,
          89.0149,
          89.09,
          89.14,
          89.23,
          89.12,
          89.14,
          89.305,
          89.4,
          89.27,
          89.16,
          89.135,
          89.15,
          89.24,
          89.4383,
          89.14,
          89.1528,
          89.16,
          89.21,
          89.11,
          89.134,
          88.985,
          88.69,
          88.5803,
          88.77,
          89.37
         ],
         "type": "candlestick"
        },
        {
         "type": "scatter",
         "y": [
          null,
          null,
          null,
          null,
          87.35398,
          87.352,
          87.348,
          87.37,
          87.35,
          87.32914,
          87.29914,
          87.27911999999999,
          87.25111999999999,
          87.24512,
          87.24198,
          87.27598,
          87.31,
          87.377,
          87.416,
          87.45,
          87.43299999999999,
          87.372,
          87.27199999999999,
          87.24499999999999,
          87.19999999999999,
          87.217,
          87.285,
          87.38553999999999,
          87.43954,
          87.51653999999999,
          87.59855999999999,
          87.70156,
          87.73802,
          87.82202,
          87.90602,
          87.964,
          87.98899999999999,
          88.05519999999999,
          88.0612,
          87.9652,
          87.8552,
          87.81620000000001,
          87.956,
          88.138,
          88.42942000000001,
          88.71342,
          89.00142000000001,
          89.1113,
          89.1893,
          89.30188000000001,
          89.42988,
          89.48388,
          89.58399999999999,
          89.656,
          89.722,
          89.76599999999999,
          89.79,
          89.776,
          89.79800000000002,
          89.784,
          89.78200000000001,
          89.78,
          89.73400000000001,
          89.682,
          89.53200000000001,
          89.39200000000001,
          89.286,
          89.194,
          89.102,
          89.108,
          89.098,
          89.076,
          89.06,
          89.05799999999999,
          89.04599999999999,
          89.046,
          89.04,
          89.038,
          89.062,
          89.1,
          89.116,
          89.13499999999999,
          89.19699999999999,
          89.23499999999999,
          89.24499999999999,
          89.255,
          89.25399999999999,
          89.224,
          89.194,
          89.22800000000001,
          89.224,
          89.22900000000001,
          89.23100000000002,
          89.225,
          89.161,
          89.155,
          89.12098,
          89.02398,
          88.89798,
          88.82997999999999
         ]
        }
       ],
       "layout": {
        "template": {
         "data": {
          "bar": [
           {
            "error_x": {
             "color": "#2a3f5f"
            },
            "error_y": {
             "color": "#2a3f5f"
            },
            "marker": {
             "line": {
              "color": "#E5ECF6",
              "width": 0.5
             },
             "pattern": {
              "fillmode": "overlay",
              "size": 10,
              "solidity": 0.2
             }
            },
            "type": "bar"
           }
          ],
          "barpolar": [
           {
            "marker": {
             "line": {
              "color": "#E5ECF6",
              "width": 0.5
             },
             "pattern": {
              "fillmode": "overlay",
              "size": 10,
              "solidity": 0.2
             }
            },
            "type": "barpolar"
           }
          ],
          "carpet": [
           {
            "aaxis": {
             "endlinecolor": "#2a3f5f",
             "gridcolor": "white",
             "linecolor": "white",
             "minorgridcolor": "white",
             "startlinecolor": "#2a3f5f"
            },
            "baxis": {
             "endlinecolor": "#2a3f5f",
             "gridcolor": "white",
             "linecolor": "white",
             "minorgridcolor": "white",
             "startlinecolor": "#2a3f5f"
            },
            "type": "carpet"
           }
          ],
          "choropleth": [
           {
            "colorbar": {
             "outlinewidth": 0,
             "ticks": ""
            },
            "type": "choropleth"
           }
          ],
          "contour": [
           {
            "colorbar": {
             "outlinewidth": 0,
             "ticks": ""
            },
            "colorscale": [
             [
              0,
              "#0d0887"
             ],
             [
              0.1111111111111111,
              "#46039f"
             ],
             [
              0.2222222222222222,
              "#7201a8"
             ],
             [
              0.3333333333333333,
              "#9c179e"
             ],
             [
              0.4444444444444444,
              "#bd3786"
             ],
             [
              0.5555555555555556,
              "#d8576b"
             ],
             [
              0.6666666666666666,
              "#ed7953"
             ],
             [
              0.7777777777777778,
              "#fb9f3a"
             ],
             [
              0.8888888888888888,
              "#fdca26"
             ],
             [
              1,
              "#f0f921"
             ]
            ],
            "type": "contour"
           }
          ],
          "contourcarpet": [
           {
            "colorbar": {
             "outlinewidth": 0,
             "ticks": ""
            },
            "type": "contourcarpet"
           }
          ],
          "heatmap": [
           {
            "colorbar": {
             "outlinewidth": 0,
             "ticks": ""
            },
            "colorscale": [
             [
              0,
              "#0d0887"
             ],
             [
              0.1111111111111111,
              "#46039f"
             ],
             [
              0.2222222222222222,
              "#7201a8"
             ],
             [
              0.3333333333333333,
              "#9c179e"
             ],
             [
              0.4444444444444444,
              "#bd3786"
             ],
             [
              0.5555555555555556,
              "#d8576b"
             ],
             [
              0.6666666666666666,
              "#ed7953"
             ],
             [
              0.7777777777777778,
              "#fb9f3a"
             ],
             [
              0.8888888888888888,
              "#fdca26"
             ],
             [
              1,
              "#f0f921"
             ]
            ],
            "type": "heatmap"
           }
          ],
          "heatmapgl": [
           {
            "colorbar": {
             "outlinewidth": 0,
             "ticks": ""
            },
            "colorscale": [
             [
              0,
              "#0d0887"
             ],
             [
              0.1111111111111111,
              "#46039f"
             ],
             [
              0.2222222222222222,
              "#7201a8"
             ],
             [
              0.3333333333333333,
              "#9c179e"
             ],
             [
              0.4444444444444444,
              "#bd3786"
             ],
             [
              0.5555555555555556,
              "#d8576b"
             ],
             [
              0.6666666666666666,
              "#ed7953"
             ],
             [
              0.7777777777777778,
              "#fb9f3a"
             ],
             [
              0.8888888888888888,
              "#fdca26"
             ],
             [
              1,
              "#f0f921"
             ]
            ],
            "type": "heatmapgl"
           }
          ],
          "histogram": [
           {
            "marker": {
             "pattern": {
              "fillmode": "overlay",
              "size": 10,
              "solidity": 0.2
             }
            },
            "type": "histogram"
           }
          ],
          "histogram2d": [
           {
            "colorbar": {
             "outlinewidth": 0,
             "ticks": ""
            },
            "colorscale": [
             [
              0,
              "#0d0887"
             ],
             [
              0.1111111111111111,
              "#46039f"
             ],
             [
              0.2222222222222222,
              "#7201a8"
             ],
             [
              0.3333333333333333,
              "#9c179e"
             ],
             [
              0.4444444444444444,
              "#bd3786"
             ],
             [
              0.5555555555555556,
              "#d8576b"
             ],
             [
              0.6666666666666666,
              "#ed7953"
             ],
             [
              0.7777777777777778,
              "#fb9f3a"
             ],
             [
              0.8888888888888888,
              "#fdca26"
             ],
             [
              1,
              "#f0f921"
             ]
            ],
            "type": "histogram2d"
           }
          ],
          "histogram2dcontour": [
           {
            "colorbar": {
             "outlinewidth": 0,
             "ticks": ""
            },
            "colorscale": [
             [
              0,
              "#0d0887"
             ],
             [
              0.1111111111111111,
              "#46039f"
             ],
             [
              0.2222222222222222,
              "#7201a8"
             ],
             [
              0.3333333333333333,
              "#9c179e"
             ],
             [
              0.4444444444444444,
              "#bd3786"
             ],
             [
              0.5555555555555556,
              "#d8576b"
             ],
             [
              0.6666666666666666,
              "#ed7953"
             ],
             [
              0.7777777777777778,
              "#fb9f3a"
             ],
             [
              0.8888888888888888,
              "#fdca26"
             ],
             [
              1,
              "#f0f921"
             ]
            ],
            "type": "histogram2dcontour"
           }
          ],
          "mesh3d": [
           {
            "colorbar": {
             "outlinewidth": 0,
             "ticks": ""
            },
            "type": "mesh3d"
           }
          ],
          "parcoords": [
           {
            "line": {
             "colorbar": {
              "outlinewidth": 0,
              "ticks": ""
             }
            },
            "type": "parcoords"
           }
          ],
          "pie": [
           {
            "automargin": true,
            "type": "pie"
           }
          ],
          "scatter": [
           {
            "fillpattern": {
             "fillmode": "overlay",
             "size": 10,
             "solidity": 0.2
            },
            "type": "scatter"
           }
          ],
          "scatter3d": [
           {
            "line": {
             "colorbar": {
              "outlinewidth": 0,
              "ticks": ""
             }
            },
            "marker": {
             "colorbar": {
              "outlinewidth": 0,
              "ticks": ""
             }
            },
            "type": "scatter3d"
           }
          ],
          "scattercarpet": [
           {
            "marker": {
             "colorbar": {
              "outlinewidth": 0,
              "ticks": ""
             }
            },
            "type": "scattercarpet"
           }
          ],
          "scattergeo": [
           {
            "marker": {
             "colorbar": {
              "outlinewidth": 0,
              "ticks": ""
             }
            },
            "type": "scattergeo"
           }
          ],
          "scattergl": [
           {
            "marker": {
             "colorbar": {
              "outlinewidth": 0,
              "ticks": ""
             }
            },
            "type": "scattergl"
           }
          ],
          "scattermapbox": [
           {
            "marker": {
             "colorbar": {
              "outlinewidth": 0,
              "ticks": ""
             }
            },
            "type": "scattermapbox"
           }
          ],
          "scatterpolar": [
           {
            "marker": {
             "colorbar": {
              "outlinewidth": 0,
              "ticks": ""
             }
            },
            "type": "scatterpolar"
           }
          ],
          "scatterpolargl": [
           {
            "marker": {
             "colorbar": {
              "outlinewidth": 0,
              "ticks": ""
             }
            },
            "type": "scatterpolargl"
           }
          ],
          "scatterternary": [
           {
            "marker": {
             "colorbar": {
              "outlinewidth": 0,
              "ticks": ""
             }
            },
            "type": "scatterternary"
           }
          ],
          "surface": [
           {
            "colorbar": {
             "outlinewidth": 0,
             "ticks": ""
            },
            "colorscale": [
             [
              0,
              "#0d0887"
             ],
             [
              0.1111111111111111,
              "#46039f"
             ],
             [
              0.2222222222222222,
              "#7201a8"
             ],
             [
              0.3333333333333333,
              "#9c179e"
             ],
             [
              0.4444444444444444,
              "#bd3786"
             ],
             [
              0.5555555555555556,
              "#d8576b"
             ],
             [
              0.6666666666666666,
              "#ed7953"
             ],
             [
              0.7777777777777778,
              "#fb9f3a"
             ],
             [
              0.8888888888888888,
              "#fdca26"
             ],
             [
              1,
              "#f0f921"
             ]
            ],
            "type": "surface"
           }
          ],
          "table": [
           {
            "cells": {
             "fill": {
              "color": "#EBF0F8"
             },
             "line": {
              "color": "white"
             }
            },
            "header": {
             "fill": {
              "color": "#C8D4E3"
             },
             "line": {
              "color": "white"
             }
            },
            "type": "table"
           }
          ]
         },
         "layout": {
          "annotationdefaults": {
           "arrowcolor": "#2a3f5f",
           "arrowhead": 0,
           "arrowwidth": 1
          },
          "autotypenumbers": "strict",
          "coloraxis": {
           "colorbar": {
            "outlinewidth": 0,
            "ticks": ""
           }
          },
          "colorscale": {
           "diverging": [
            [
             0,
             "#8e0152"
            ],
            [
             0.1,
             "#c51b7d"
            ],
            [
             0.2,
             "#de77ae"
            ],
            [
             0.3,
             "#f1b6da"
            ],
            [
             0.4,
             "#fde0ef"
            ],
            [
             0.5,
             "#f7f7f7"
            ],
            [
             0.6,
             "#e6f5d0"
            ],
            [
             0.7,
             "#b8e186"
            ],
            [
             0.8,
             "#7fbc41"
            ],
            [
             0.9,
             "#4d9221"
            ],
            [
             1,
             "#276419"
            ]
           ],
           "sequential": [
            [
             0,
             "#0d0887"
            ],
            [
             0.1111111111111111,
             "#46039f"
            ],
            [
             0.2222222222222222,
             "#7201a8"
            ],
            [
             0.3333333333333333,
             "#9c179e"
            ],
            [
             0.4444444444444444,
             "#bd3786"
            ],
            [
             0.5555555555555556,
             "#d8576b"
            ],
            [
             0.6666666666666666,
             "#ed7953"
            ],
            [
             0.7777777777777778,
             "#fb9f3a"
            ],
            [
             0.8888888888888888,
             "#fdca26"
            ],
            [
             1,
             "#f0f921"
            ]
           ],
           "sequentialminus": [
            [
             0,
             "#0d0887"
            ],
            [
             0.1111111111111111,
             "#46039f"
            ],
            [
             0.2222222222222222,
             "#7201a8"
            ],
            [
             0.3333333333333333,
             "#9c179e"
            ],
            [
             0.4444444444444444,
             "#bd3786"
            ],
            [
             0.5555555555555556,
             "#d8576b"
            ],
            [
             0.6666666666666666,
             "#ed7953"
            ],
            [
             0.7777777777777778,
             "#fb9f3a"
            ],
            [
             0.8888888888888888,
             "#fdca26"
            ],
            [
             1,
             "#f0f921"
            ]
           ]
          },
          "colorway": [
           "#636efa",
           "#EF553B",
           "#00cc96",
           "#ab63fa",
           "#FFA15A",
           "#19d3f3",
           "#FF6692",
           "#B6E880",
           "#FF97FF",
           "#FECB52"
          ],
          "font": {
           "color": "#2a3f5f"
          },
          "geo": {
           "bgcolor": "white",
           "lakecolor": "white",
           "landcolor": "#E5ECF6",
           "showlakes": true,
           "showland": true,
           "subunitcolor": "white"
          },
          "hoverlabel": {
           "align": "left"
          },
          "hovermode": "closest",
          "mapbox": {
           "style": "light"
          },
          "paper_bgcolor": "white",
          "plot_bgcolor": "#E5ECF6",
          "polar": {
           "angularaxis": {
            "gridcolor": "white",
            "linecolor": "white",
            "ticks": ""
           },
           "bgcolor": "#E5ECF6",
           "radialaxis": {
            "gridcolor": "white",
            "linecolor": "white",
            "ticks": ""
           }
          },
          "scene": {
           "xaxis": {
            "backgroundcolor": "#E5ECF6",
            "gridcolor": "white",
            "gridwidth": 2,
            "linecolor": "white",
            "showbackground": true,
            "ticks": "",
            "zerolinecolor": "white"
           },
           "yaxis": {
            "backgroundcolor": "#E5ECF6",
            "gridcolor": "white",
            "gridwidth": 2,
            "linecolor": "white",
            "showbackground": true,
            "ticks": "",
            "zerolinecolor": "white"
           },
           "zaxis": {
            "backgroundcolor": "#E5ECF6",
            "gridcolor": "white",
            "gridwidth": 2,
            "linecolor": "white",
            "showbackground": true,
            "ticks": "",
            "zerolinecolor": "white"
           }
          },
          "shapedefaults": {
           "line": {
            "color": "#2a3f5f"
           }
          },
          "ternary": {
           "aaxis": {
            "gridcolor": "white",
            "linecolor": "white",
            "ticks": ""
           },
           "baxis": {
            "gridcolor": "white",
            "linecolor": "white",
            "ticks": ""
           },
           "bgcolor": "#E5ECF6",
           "caxis": {
            "gridcolor": "white",
            "linecolor": "white",
            "ticks": ""
           }
          },
          "title": {
           "x": 0.05
          },
          "xaxis": {
           "automargin": true,
           "gridcolor": "white",
           "linecolor": "white",
           "ticks": "",
           "title": {
            "standoff": 15
           },
           "zerolinecolor": "white",
           "zerolinewidth": 2
          },
          "yaxis": {
           "automargin": true,
           "gridcolor": "white",
           "linecolor": "white",
           "ticks": "",
           "title": {
            "standoff": 15
           },
           "zerolinecolor": "white",
           "zerolinewidth": 2
          }
         }
        }
       }
      }
     },
     "metadata": {},
     "output_type": "display_data"
    }
   ],
   "source": [
    "strategy.plot()"
   ]
  },
  {
   "cell_type": "code",
   "execution_count": null,
   "metadata": {},
   "outputs": [],
   "source": []
  }
 ],
 "metadata": {
  "kernelspec": {
   "display_name": "Python 3.7.0 64-bit",
   "language": "python",
   "name": "python3"
  },
  "language_info": {
   "codemirror_mode": {
    "name": "ipython",
    "version": 3
   },
   "file_extension": ".py",
   "mimetype": "text/x-python",
   "name": "python",
   "nbconvert_exporter": "python",
   "pygments_lexer": "ipython3",
   "version": "3.7.0"
  },
  "orig_nbformat": 4,
  "vscode": {
   "interpreter": {
    "hash": "c0e447d3c94ca1fe880e73ecc26de37d08670f0b8dff82bff37393797e7f6f96"
   }
  }
 },
 "nbformat": 4,
 "nbformat_minor": 2
}
